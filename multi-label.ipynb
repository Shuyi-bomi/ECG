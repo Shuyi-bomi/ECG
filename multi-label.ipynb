{
 "cells": [
  {
   "cell_type": "code",
   "execution_count": 1,
   "id": "0b8880b4-6eb7-47ba-924f-6b67cb020124",
   "metadata": {},
   "outputs": [],
   "source": [
    "import numpy as np\n",
    "import pandas as pd\n",
    "import h5py\n",
    "import os\n",
    "import json\n",
    "from sklearn.preprocessing import LabelBinarizer\n",
    "from functools import partial\n",
    "from scipy.spatial import distance\n",
    "from sklearn.metrics import f1_score\n",
    "from sklearn.datasets import make_classification\n",
    "#from collections import Counter"
   ]
  },
  {
   "cell_type": "code",
   "execution_count": 10,
   "id": "070670a8-8af6-4367-9a07-8d48db1d46bc",
   "metadata": {},
   "outputs": [
    {
     "name": "stdout",
     "output_type": "stream",
     "text": [
      "ID,FID,Dx,L\n",
      "200001,A0001,59118001,7500\n",
      "200002,A0002,426783006,5000\n",
      "200003,A0003,164889003,5000\n",
      "200004,A0004,164889003,5974\n",
      "200005,A0005,164884008,12500\n",
      "200006,A0006,59118001,7000\n",
      "200007,A0007,164889003,5000\n",
      "200008,A0008,429622005,7588\n",
      "200009,A0009,164889003,8000\n"
     ]
    }
   ],
   "source": [
    "! head data2.csv"
   ]
  },
  {
   "cell_type": "code",
   "execution_count": 11,
   "id": "1939619c-49b9-478a-a9d5-267837ad07ee",
   "metadata": {},
   "outputs": [],
   "source": [
    "df = pd.read_csv('data2.csv')"
   ]
  },
  {
   "cell_type": "code",
   "execution_count": 3,
   "id": "6745934e-2884-4a18-8e6e-1bfcbe25d02b",
   "metadata": {},
   "outputs": [
    {
     "data": {
      "text/plain": [
       "Index(['ID', 'FID', 'Dx', 'L'], dtype='object')"
      ]
     },
     "execution_count": 3,
     "metadata": {},
     "output_type": "execute_result"
    }
   ],
   "source": [
    "#df[df['L']==min(df['L'])]\n",
    "columns = df.columns\n",
    "columns\n",
    "#df[columns[0]]"
   ]
  },
  {
   "cell_type": "code",
   "execution_count": 4,
   "id": "b90983f0-9b59-45c1-bb32-570940b78e19",
   "metadata": {},
   "outputs": [
    {
     "data": {
      "text/plain": [
       "265344"
      ]
     },
     "execution_count": 4,
     "metadata": {},
     "output_type": "execute_result"
    }
   ],
   "source": [
    "df['ID'].max()\n"
   ]
  },
  {
   "cell_type": "code",
   "execution_count": 5,
   "id": "2fac973e-1832-434e-a79b-f442aa0a44ee",
   "metadata": {
    "tags": []
   },
   "outputs": [],
   "source": [
    "category = pd.read_table(\n",
    "    \"http://172.16.150.153/liuhui/ecg-public/raw/master/SNOMED_CT-ECG.org\",\n",
    "    sep='\\s*[|]\\s*', engine='python').dropna(axis=1, how='all')\n",
    "\n",
    "classes = category.code[:27].to_numpy()"
   ]
  },
  {
   "cell_type": "code",
   "execution_count": 75,
   "id": "c49ed7c9-45ed-4f29-83ff-48e16b989781",
   "metadata": {},
   "outputs": [
    {
     "data": {
      "text/html": [
       "<div>\n",
       "<style scoped>\n",
       "    .dataframe tbody tr th:only-of-type {\n",
       "        vertical-align: middle;\n",
       "    }\n",
       "\n",
       "    .dataframe tbody tr th {\n",
       "        vertical-align: top;\n",
       "    }\n",
       "\n",
       "    .dataframe thead th {\n",
       "        text-align: right;\n",
       "    }\n",
       "</style>\n",
       "<table border=\"1\" class=\"dataframe\">\n",
       "  <thead>\n",
       "    <tr style=\"text-align: right;\">\n",
       "      <th></th>\n",
       "      <th>code</th>\n",
       "      <th>abbreviation</th>\n",
       "      <th>desc</th>\n",
       "      <th>desc_zh</th>\n",
       "      <th>ecgcode</th>\n",
       "    </tr>\n",
       "  </thead>\n",
       "  <tbody>\n",
       "    <tr>\n",
       "      <th>13</th>\n",
       "      <td>427172004</td>\n",
       "      <td>PVC</td>\n",
       "      <td>premature ventricular contractions</td>\n",
       "      <td>室性早搏</td>\n",
       "      <td>0x050202</td>\n",
       "    </tr>\n",
       "  </tbody>\n",
       "</table>\n",
       "</div>"
      ],
      "text/plain": [
       "         code abbreviation                                desc desc_zh  \\\n",
       "13  427172004          PVC  premature ventricular contractions    室性早搏   \n",
       "\n",
       "     ecgcode  \n",
       "13  0x050202  "
      ]
     },
     "execution_count": 75,
     "metadata": {},
     "output_type": "execute_result"
    }
   ],
   "source": [
    "category[category['code']==427172004]"
   ]
  },
  {
   "cell_type": "code",
   "execution_count": 78,
   "id": "031f89bd-038e-4a08-815d-0dcf74371b1e",
   "metadata": {},
   "outputs": [
    {
     "data": {
      "text/html": [
       "<div>\n",
       "<style scoped>\n",
       "    .dataframe tbody tr th:only-of-type {\n",
       "        vertical-align: middle;\n",
       "    }\n",
       "\n",
       "    .dataframe tbody tr th {\n",
       "        vertical-align: top;\n",
       "    }\n",
       "\n",
       "    .dataframe thead th {\n",
       "        text-align: right;\n",
       "    }\n",
       "</style>\n",
       "<table border=\"1\" class=\"dataframe\">\n",
       "  <thead>\n",
       "    <tr style=\"text-align: right;\">\n",
       "      <th></th>\n",
       "      <th>code</th>\n",
       "      <th>abbreviation</th>\n",
       "      <th>desc</th>\n",
       "      <th>desc_zh</th>\n",
       "      <th>ecgcode</th>\n",
       "    </tr>\n",
       "  </thead>\n",
       "  <tbody>\n",
       "    <tr>\n",
       "      <th>0</th>\n",
       "      <td>270492004</td>\n",
       "      <td>IAVB</td>\n",
       "      <td>1st degree av block</td>\n",
       "      <td>I度房室传导阻滞</td>\n",
       "      <td>0x060201</td>\n",
       "    </tr>\n",
       "    <tr>\n",
       "      <th>1</th>\n",
       "      <td>164889003</td>\n",
       "      <td>AF</td>\n",
       "      <td>atrial fibrillation</td>\n",
       "      <td>心房颤动</td>\n",
       "      <td>0x030701</td>\n",
       "    </tr>\n",
       "    <tr>\n",
       "      <th>2</th>\n",
       "      <td>164890007</td>\n",
       "      <td>AFL</td>\n",
       "      <td>atrial flutter</td>\n",
       "      <td>心房扑动</td>\n",
       "      <td>0x030601</td>\n",
       "    </tr>\n",
       "    <tr>\n",
       "      <th>3</th>\n",
       "      <td>426627000</td>\n",
       "      <td>Brady</td>\n",
       "      <td>bradycardia</td>\n",
       "      <td>心动过缓</td>\n",
       "      <td>NaN</td>\n",
       "    </tr>\n",
       "    <tr>\n",
       "      <th>4</th>\n",
       "      <td>713427006</td>\n",
       "      <td>CRBBB</td>\n",
       "      <td>complete right bundle branch block</td>\n",
       "      <td>完全性右束支传导阻滞</td>\n",
       "      <td>0x060305</td>\n",
       "    </tr>\n",
       "    <tr>\n",
       "      <th>5</th>\n",
       "      <td>713426002</td>\n",
       "      <td>IRBBB</td>\n",
       "      <td>incomplete right bundle branch block</td>\n",
       "      <td>不完全性右束支传导阻滞</td>\n",
       "      <td>0x060309</td>\n",
       "    </tr>\n",
       "    <tr>\n",
       "      <th>6</th>\n",
       "      <td>445118002</td>\n",
       "      <td>LAnFB</td>\n",
       "      <td>left anterior fascicular block</td>\n",
       "      <td>左前分支阻滞</td>\n",
       "      <td>0x06030e</td>\n",
       "    </tr>\n",
       "    <tr>\n",
       "      <th>7</th>\n",
       "      <td>39732003</td>\n",
       "      <td>LAD</td>\n",
       "      <td>left axis deviation</td>\n",
       "      <td>电轴左偏</td>\n",
       "      <td>0x0b0301</td>\n",
       "    </tr>\n",
       "    <tr>\n",
       "      <th>8</th>\n",
       "      <td>164909002</td>\n",
       "      <td>LBBB</td>\n",
       "      <td>left bundle branch block</td>\n",
       "      <td>完全性左束支传导阻滞</td>\n",
       "      <td>0x060301</td>\n",
       "    </tr>\n",
       "    <tr>\n",
       "      <th>9</th>\n",
       "      <td>251146004</td>\n",
       "      <td>LQRSV</td>\n",
       "      <td>low qrs voltages</td>\n",
       "      <td>QRS电压降低</td>\n",
       "      <td>NaN</td>\n",
       "    </tr>\n",
       "    <tr>\n",
       "      <th>10</th>\n",
       "      <td>698252002</td>\n",
       "      <td>NSIVCB</td>\n",
       "      <td>nonspecific intraventricular conduction disorder</td>\n",
       "      <td>非特异性心室内传导障碍</td>\n",
       "      <td>NaN</td>\n",
       "    </tr>\n",
       "    <tr>\n",
       "      <th>11</th>\n",
       "      <td>10370003</td>\n",
       "      <td>PR</td>\n",
       "      <td>pacing rhythm</td>\n",
       "      <td>起搏心律</td>\n",
       "      <td>0x0b0801</td>\n",
       "    </tr>\n",
       "    <tr>\n",
       "      <th>12</th>\n",
       "      <td>284470004</td>\n",
       "      <td>PAC</td>\n",
       "      <td>premature atrial contraction</td>\n",
       "      <td>房性早搏</td>\n",
       "      <td>0x030201</td>\n",
       "    </tr>\n",
       "    <tr>\n",
       "      <th>13</th>\n",
       "      <td>427172004</td>\n",
       "      <td>PVC</td>\n",
       "      <td>premature ventricular contractions</td>\n",
       "      <td>室性早搏</td>\n",
       "      <td>0x050202</td>\n",
       "    </tr>\n",
       "    <tr>\n",
       "      <th>14</th>\n",
       "      <td>164947007</td>\n",
       "      <td>LPR</td>\n",
       "      <td>prolonged pr interval</td>\n",
       "      <td>PR间期延长</td>\n",
       "      <td>NaN</td>\n",
       "    </tr>\n",
       "    <tr>\n",
       "      <th>15</th>\n",
       "      <td>111975006</td>\n",
       "      <td>LQT</td>\n",
       "      <td>prolonged qt interval</td>\n",
       "      <td>Q-T延长</td>\n",
       "      <td>0x0b0701</td>\n",
       "    </tr>\n",
       "    <tr>\n",
       "      <th>16</th>\n",
       "      <td>164917005</td>\n",
       "      <td>QAb</td>\n",
       "      <td>qwave abnormal</td>\n",
       "      <td>异常Q波</td>\n",
       "      <td>0x0b0908</td>\n",
       "    </tr>\n",
       "    <tr>\n",
       "      <th>17</th>\n",
       "      <td>47665007</td>\n",
       "      <td>RAD</td>\n",
       "      <td>right axis deviation</td>\n",
       "      <td>电轴右偏</td>\n",
       "      <td>NaN</td>\n",
       "    </tr>\n",
       "    <tr>\n",
       "      <th>18</th>\n",
       "      <td>59118001</td>\n",
       "      <td>RBBB</td>\n",
       "      <td>right bundle branch block</td>\n",
       "      <td>完全性右束支传导阻滞</td>\n",
       "      <td>0x060305</td>\n",
       "    </tr>\n",
       "    <tr>\n",
       "      <th>19</th>\n",
       "      <td>427393009</td>\n",
       "      <td>SA</td>\n",
       "      <td>sinus arrhythmia</td>\n",
       "      <td>窦性心律不齐</td>\n",
       "      <td>0x020201</td>\n",
       "    </tr>\n",
       "    <tr>\n",
       "      <th>20</th>\n",
       "      <td>426177001</td>\n",
       "      <td>SB</td>\n",
       "      <td>sinus bradycardia</td>\n",
       "      <td>窦性心动过缓</td>\n",
       "      <td>0x020401</td>\n",
       "    </tr>\n",
       "    <tr>\n",
       "      <th>21</th>\n",
       "      <td>426783006</td>\n",
       "      <td>NSR</td>\n",
       "      <td>sinus rhythm</td>\n",
       "      <td>窦性心律</td>\n",
       "      <td>0x020101</td>\n",
       "    </tr>\n",
       "    <tr>\n",
       "      <th>22</th>\n",
       "      <td>427084000</td>\n",
       "      <td>STach</td>\n",
       "      <td>sinus tachycardia</td>\n",
       "      <td>窦性心动过速</td>\n",
       "      <td>0x020301</td>\n",
       "    </tr>\n",
       "    <tr>\n",
       "      <th>23</th>\n",
       "      <td>63593006</td>\n",
       "      <td>SVPB</td>\n",
       "      <td>supraventricular premature beats</td>\n",
       "      <td>室上性早搏</td>\n",
       "      <td>0x040202</td>\n",
       "    </tr>\n",
       "    <tr>\n",
       "      <th>24</th>\n",
       "      <td>164934002</td>\n",
       "      <td>TAb</td>\n",
       "      <td>t wave abnormal</td>\n",
       "      <td>异常T波</td>\n",
       "      <td>0x0a04</td>\n",
       "    </tr>\n",
       "    <tr>\n",
       "      <th>25</th>\n",
       "      <td>59931005</td>\n",
       "      <td>TInv</td>\n",
       "      <td>t wave inversion</td>\n",
       "      <td>T波倒置</td>\n",
       "      <td>0x0a0404</td>\n",
       "    </tr>\n",
       "    <tr>\n",
       "      <th>26</th>\n",
       "      <td>17338001</td>\n",
       "      <td>VPB</td>\n",
       "      <td>ventricular premature beats</td>\n",
       "      <td>室性早搏</td>\n",
       "      <td>0x050202</td>\n",
       "    </tr>\n",
       "  </tbody>\n",
       "</table>\n",
       "</div>"
      ],
      "text/plain": [
       "         code abbreviation                                              desc  \\\n",
       "0   270492004         IAVB                               1st degree av block   \n",
       "1   164889003           AF                               atrial fibrillation   \n",
       "2   164890007          AFL                                    atrial flutter   \n",
       "3   426627000        Brady                                       bradycardia   \n",
       "4   713427006        CRBBB                complete right bundle branch block   \n",
       "5   713426002        IRBBB              incomplete right bundle branch block   \n",
       "6   445118002        LAnFB                    left anterior fascicular block   \n",
       "7    39732003          LAD                               left axis deviation   \n",
       "8   164909002         LBBB                          left bundle branch block   \n",
       "9   251146004        LQRSV                                  low qrs voltages   \n",
       "10  698252002       NSIVCB  nonspecific intraventricular conduction disorder   \n",
       "11   10370003           PR                                     pacing rhythm   \n",
       "12  284470004          PAC                      premature atrial contraction   \n",
       "13  427172004          PVC                premature ventricular contractions   \n",
       "14  164947007          LPR                             prolonged pr interval   \n",
       "15  111975006          LQT                             prolonged qt interval   \n",
       "16  164917005          QAb                                    qwave abnormal   \n",
       "17   47665007          RAD                              right axis deviation   \n",
       "18   59118001         RBBB                         right bundle branch block   \n",
       "19  427393009           SA                                  sinus arrhythmia   \n",
       "20  426177001           SB                                 sinus bradycardia   \n",
       "21  426783006          NSR                                      sinus rhythm   \n",
       "22  427084000        STach                                 sinus tachycardia   \n",
       "23   63593006         SVPB                  supraventricular premature beats   \n",
       "24  164934002          TAb                                   t wave abnormal   \n",
       "25   59931005         TInv                                  t wave inversion   \n",
       "26   17338001          VPB                       ventricular premature beats   \n",
       "\n",
       "        desc_zh   ecgcode  \n",
       "0      I度房室传导阻滞  0x060201  \n",
       "1          心房颤动  0x030701  \n",
       "2          心房扑动  0x030601  \n",
       "3          心动过缓       NaN  \n",
       "4    完全性右束支传导阻滞  0x060305  \n",
       "5   不完全性右束支传导阻滞  0x060309  \n",
       "6        左前分支阻滞  0x06030e  \n",
       "7          电轴左偏  0x0b0301  \n",
       "8    完全性左束支传导阻滞  0x060301  \n",
       "9       QRS电压降低       NaN  \n",
       "10  非特异性心室内传导障碍       NaN  \n",
       "11         起搏心律  0x0b0801  \n",
       "12         房性早搏  0x030201  \n",
       "13         室性早搏  0x050202  \n",
       "14       PR间期延长       NaN  \n",
       "15        Q-T延长  0x0b0701  \n",
       "16         异常Q波  0x0b0908  \n",
       "17         电轴右偏       NaN  \n",
       "18   完全性右束支传导阻滞  0x060305  \n",
       "19       窦性心律不齐  0x020201  \n",
       "20       窦性心动过缓  0x020401  \n",
       "21         窦性心律  0x020101  \n",
       "22       窦性心动过速  0x020301  \n",
       "23        室上性早搏  0x040202  \n",
       "24         异常T波    0x0a04  \n",
       "25         T波倒置  0x0a0404  \n",
       "26         室性早搏  0x050202  "
      ]
     },
     "execution_count": 78,
     "metadata": {},
     "output_type": "execute_result"
    }
   ],
   "source": [
    "category[:27]"
   ]
  },
  {
   "cell_type": "code",
   "execution_count": 6,
   "id": "f7cfa172-3c4d-45b2-af5b-3ce64c512fa3",
   "metadata": {},
   "outputs": [
    {
     "data": {
      "text/plain": [
       "['IAVB',\n",
       " 'AF',\n",
       " 'AFL',\n",
       " 'Brady',\n",
       " 'CRBBB',\n",
       " 'IRBBB',\n",
       " 'LAnFB',\n",
       " 'LAD',\n",
       " 'LBBB',\n",
       " 'LQRSV',\n",
       " 'NSIVCB',\n",
       " 'PR',\n",
       " 'PAC',\n",
       " 'PVC',\n",
       " 'LPR',\n",
       " 'LQT',\n",
       " 'QAb',\n",
       " 'RAD',\n",
       " 'RBBB',\n",
       " 'SA',\n",
       " 'SB',\n",
       " 'NSR',\n",
       " 'STach',\n",
       " 'SVPB',\n",
       " 'TAb',\n",
       " 'TInv',\n",
       " 'VPB']"
      ]
     },
     "execution_count": 6,
     "metadata": {},
     "output_type": "execute_result"
    }
   ],
   "source": [
    "list(category[:27]['abbreviation'])"
   ]
  },
  {
   "cell_type": "code",
   "execution_count": 7,
   "id": "e740f9df-92a0-4dec-b1a5-9b185733755d",
   "metadata": {},
   "outputs": [
    {
     "data": {
      "text/plain": [
       "{270492004: 0,\n",
       " 164889003: 1,\n",
       " 164890007: 2,\n",
       " 426627000: 3,\n",
       " 713427006: 4,\n",
       " 713426002: 5,\n",
       " 445118002: 6,\n",
       " 39732003: 7,\n",
       " 164909002: 8,\n",
       " 251146004: 9,\n",
       " 698252002: 10,\n",
       " 10370003: 11,\n",
       " 284470004: 12,\n",
       " 427172004: 13,\n",
       " 164947007: 14,\n",
       " 111975006: 15,\n",
       " 164917005: 16,\n",
       " 47665007: 17,\n",
       " 59118001: 18,\n",
       " 427393009: 19,\n",
       " 426177001: 20,\n",
       " 426783006: 21,\n",
       " 427084000: 22,\n",
       " 63593006: 23,\n",
       " 164934002: 24,\n",
       " 59931005: 25,\n",
       " 17338001: 26}"
      ]
     },
     "execution_count": 7,
     "metadata": {},
     "output_type": "execute_result"
    }
   ],
   "source": [
    "classes\n",
    "transdict = {}\n",
    "for i,cato in enumerate(classes):\n",
    "    transdict[cato] = i\n",
    "transdict\n"
   ]
  },
  {
   "cell_type": "code",
   "execution_count": 17,
   "id": "e4dee54e-4712-4c30-891e-8c9f1f21ff16",
   "metadata": {},
   "outputs": [
    {
     "data": {
      "text/plain": [
       "{270492004: 0,\n",
       " 164889003: 1,\n",
       " 164890007: 2,\n",
       " 426627000: 3,\n",
       " 713427006: 4,\n",
       " 713426002: 5,\n",
       " 445118002: 6,\n",
       " 39732003: 7,\n",
       " 164909002: 8,\n",
       " 251146004: 9,\n",
       " 698252002: 10,\n",
       " 10370003: 11,\n",
       " 284470004: 12,\n",
       " 427172004: 13,\n",
       " 164947007: 14,\n",
       " 111975006: 15,\n",
       " 164917005: 16,\n",
       " 47665007: 17,\n",
       " 59118001: 18,\n",
       " 427393009: 19,\n",
       " 426177001: 20,\n",
       " 426783006: 21,\n",
       " 427084000: 22,\n",
       " 63593006: 23,\n",
       " 164934002: 24,\n",
       " 59931005: 25,\n",
       " 17338001: 26}"
      ]
     },
     "execution_count": 17,
     "metadata": {},
     "output_type": "execute_result"
    }
   ],
   "source": [
    "classes\n",
    "transdict = {}\n",
    "for i,cato in enumerate(classes):\n",
    "    transdict[cato] = i\n",
    "transdict"
   ]
  },
  {
   "cell_type": "code",
   "execution_count": 18,
   "id": "437d6af2-761c-40e7-a090-d887a1f53333",
   "metadata": {},
   "outputs": [],
   "source": [
    "def in_27_classes(x):\n",
    "    for c in x.split(','):\n",
    "        if int(c) in classes:\n",
    "            return True\n",
    "    else:\n",
    "        return False"
   ]
  },
  {
   "cell_type": "code",
   "execution_count": 88,
   "id": "d40da7aa-101f-45dd-aa45-983fe959c578",
   "metadata": {},
   "outputs": [],
   "source": [
    "def padis(x)\n",
    "    new = np.zeros((x.shape[0],x.shape[0]))\n",
    "    for i in range(x.shape[0]):\n",
    "        for j in range(x.shape[0]):\n",
    "            new[i][j] = np.linalg.norm(x[i]-x[j])\n",
    "    #D=np.linalg.norm(x)\n",
    "    return new"
   ]
  },
  {
   "cell_type": "code",
   "execution_count": 63,
   "id": "47b15213-8834-47b1-b12d-e49d432cbfa7",
   "metadata": {},
   "outputs": [
    {
     "data": {
      "text/plain": [
       "34116"
      ]
     },
     "execution_count": 63,
     "metadata": {},
     "output_type": "execute_result"
    }
   ],
   "source": [
    "a = (os.listdir('upsampdata2'))\n",
    "len(a)\n",
    "#f = lambda x: 'npy' not in x\n",
    "#aa=list(map(f,a))\n",
    "#original max index 34595\n"
   ]
  },
  {
   "cell_type": "code",
   "execution_count": 157,
   "id": "7b227359-fc3f-49dc-bf56-ea864238b191",
   "metadata": {},
   "outputs": [],
   "source": [
    "train_id.extend(np.arange(47282))\n",
    "with open(\"indextrainup.txt\", \"w\") as fp:\n",
    "    json.dump(list(map(int,train_id)), fp)"
   ]
  },
  {
   "cell_type": "code",
   "execution_count": 122,
   "id": "fd1ed439-d7a4-4fae-871c-a1416b3424ed",
   "metadata": {},
   "outputs": [],
   "source": [
    "for x in a:\n",
    "    if x == '34596.npy':\n",
    "        print(x)"
   ]
  },
  {
   "cell_type": "code",
   "execution_count": 15,
   "id": "ecefd3c3-5a4c-4c58-803f-f0f24a6667bf",
   "metadata": {},
   "outputs": [],
   "source": [
    "a = os.listdir('./upsampdata2')\n",
    "b = sorted(a, key=lambda x: int(x.split('.')[0]) if (x[1] != 'y' and x[2] != 'y') else 0)"
   ]
  },
  {
   "cell_type": "code",
   "execution_count": 182,
   "id": "d7ce6043-74ee-484e-99f0-3eaa9f2885af",
   "metadata": {},
   "outputs": [
    {
     "data": {
      "text/plain": [
       "(77283, 28)"
      ]
     },
     "execution_count": 182,
     "metadata": {},
     "output_type": "execute_result"
    }
   ],
   "source": [
    "y.shape"
   ]
  },
  {
   "cell_type": "code",
   "execution_count": 17,
   "id": "2403d05c-6686-427f-84d7-fbdaeaaa63f6",
   "metadata": {},
   "outputs": [
    {
     "data": {
      "text/plain": [
       "[17273, 25650]"
      ]
     },
     "execution_count": 17,
     "metadata": {},
     "output_type": "execute_result"
    }
   ],
   "source": [
    "[i for i, x in enumerate(aa) if x]"
   ]
  },
  {
   "cell_type": "code",
   "execution_count": 22,
   "id": "cf1e0934-7726-47cf-a3cb-e6947424cef3",
   "metadata": {},
   "outputs": [
    {
     "data": {
      "text/plain": [
       "24"
      ]
     },
     "execution_count": 22,
     "metadata": {},
     "output_type": "execute_result"
    }
   ],
   "source": [
    "\n",
    "\n",
    "keys = []\n",
    "for keyn in counter.keys():\n",
    "    if counter[keyn]<3000:\n",
    "        keys.append(keyn)\n"
   ]
  },
  {
   "cell_type": "code",
   "execution_count": 183,
   "id": "a435d9cd-611f-4484-a907-708c38edd001",
   "metadata": {},
   "outputs": [],
   "source": [
    "counter_up = {}\n",
    "for i in range(1,28):\n",
    "    counter_up[i-1] = int(sum(y[:,i]))\n",
    "pos_wts = []\n",
    "for i in range(27):\n",
    "    pos_wts.append((77283-list(counter_up.values())[i] )/list(counter_up.values())[i] ) "
   ]
  },
  {
   "cell_type": "code",
   "execution_count": 195,
   "id": "fce68658-fa14-43a6-95b3-c3e898e42146",
   "metadata": {},
   "outputs": [
    {
     "data": {
      "text/plain": [
       "[9.481893394818934,\n",
       " 7.078080903104421,\n",
       " 79.83995815899581,\n",
       " 124.05339805825243,\n",
       " 32.80708661417323,\n",
       " 14.416517055655296,\n",
       " 10.748707813925206,\n",
       " 3.0728853754940713,\n",
       " 23.706841432225065,\n",
       " 42.83607487237663,\n",
       " 22.98603351955307,\n",
       " 123.8513731825525,\n",
       " 14.22217845184164,\n",
       " 39.632492113564666,\n",
       " 60.776978417266186,\n",
       " 14.216184288245717,\n",
       " 18.699974509304106,\n",
       " 52.70604586518416,\n",
       " 12.136664966853646,\n",
       " 21.175896700143472,\n",
       " 10.224836601307189,\n",
       " 1.484744236890332,\n",
       " 9.918762362249224,\n",
       " 124.25607779578606,\n",
       " 4.202840985593106,\n",
       " 17.50646551724138,\n",
       " 52.93091416608514]"
      ]
     },
     "execution_count": 195,
     "metadata": {},
     "output_type": "execute_result"
    }
   ],
   "source": [
    "pos_wts"
   ]
  },
  {
   "cell_type": "code",
   "execution_count": 9,
   "id": "af0c6a2a-50ea-4c15-a51c-539fd85a3a6b",
   "metadata": {},
   "outputs": [],
   "source": [
    "import tensorflow as tf\n"
   ]
  },
  {
   "cell_type": "code",
   "execution_count": 148,
   "id": "f6f723c7-81ab-44f7-ba3a-925f4733fcc3",
   "metadata": {},
   "outputs": [],
   "source": []
  },
  {
   "cell_type": "code",
   "execution_count": 38,
   "id": "277e2012-8aa8-45d4-9da6-5c72b118e455",
   "metadata": {},
   "outputs": [
    {
     "data": {
      "text/plain": [
       "[10, 16, 19, 23]"
      ]
     },
     "execution_count": 38,
     "metadata": {},
     "output_type": "execute_result"
    }
   ],
   "source": [
    "newkeys=[10, 16, 19, 23]"
   ]
  },
  {
   "cell_type": "code",
   "execution_count": 35,
   "id": "a7f52516-17e9-49e2-8005-2b7816965316",
   "metadata": {},
   "outputs": [],
   "source": [
    "keys.extend(np.arange(22, 27))"
   ]
  },
  {
   "cell_type": "code",
   "execution_count": 23,
   "id": "23c28950-096f-45f2-8a4f-b9587aba135d",
   "metadata": {},
   "outputs": [
    {
     "data": {
      "text/plain": [
       "52"
      ]
     },
     "execution_count": 23,
     "metadata": {},
     "output_type": "execute_result"
    }
   ],
   "source": [
    "len(os.listdir('./classify'))"
   ]
  },
  {
   "cell_type": "code",
   "execution_count": 39,
   "id": "13493a6a-faf9-497c-a7ea-a7c58a41bee1",
   "metadata": {},
   "outputs": [],
   "source": [
    "def upsampling(x, y, start = 0, key = 0):\n",
    "    sample_num = np.int(x.shape[0]*1.5)\n",
    "    choose = np.random.randint(0,x.shape[0],(sample_num))\n",
    "    index = np.arange(start, start+sample_num)#list(map(int,y[choose,0]))\n",
    "    y_new = y[choose, :]\n",
    "    y_new[:,0] = index\n",
    "    np.save('upsampdata2/'+str(key)+'y_up.npy',y_new) \n",
    "    \n",
    "    for i in range(sample_num):\n",
    "        idn = index[i]\n",
    "        x_new = x[choose[i]] + 0.05*np.random.standard_normal((5000,12))\n",
    "        np.save('upsampdata2/'+str(idn)+'.npy',x_new)\n",
    "    \n",
    "      \n",
    "    #x_new = x[index] + np.random.standard_normal((sample_num,5000,12))\n",
    "    #ids = y[index, 0]\n",
    "start = 34596 \n",
    "for key in newkeys:\n",
    "    x = np.load('classify/'+str(key)+'.npy')\n",
    "    y = np.load('classify/'+str(key)+'y.npy')\n",
    "    \n",
    "    upsampling(x, y, start, key)\n",
    "    start += np.int(x.shape[0]*1.5)\n",
    "    #np.save('upsampdata/class/'+str(key), x_up)\n",
    "\n",
    "\n",
    "\n",
    "    \n",
    "    \n"
   ]
  },
  {
   "cell_type": "code",
   "execution_count": 177,
   "id": "69a38480-76c4-46ea-a27c-c61d363a3252",
   "metadata": {},
   "outputs": [],
   "source": [
    "for key in keys:\n",
    "    os.remove('upsampdata/'+str(key)+'y_up.npy')\n"
   ]
  },
  {
   "cell_type": "code",
   "execution_count": 43,
   "id": "cd109e76-55ef-4678-bfe2-a41fb1e295b1",
   "metadata": {},
   "outputs": [],
   "source": [
    "y = train_y\n",
    "for key in newkeys:\n",
    "    y = np.vstack ((y,(np.load('upsampdata2/'+str(key)+'y_up.npy'))) )\n",
    "np.save('train_yup2.npy',y) "
   ]
  },
  {
   "cell_type": "code",
   "execution_count": 55,
   "id": "2e45aa5e-0061-41e8-a6de-8cb3253999e4",
   "metadata": {},
   "outputs": [],
   "source": [
    "np.save('train_yup2.npy',y) "
   ]
  },
  {
   "cell_type": "code",
   "execution_count": 35,
   "id": "95c0e19a-6537-4954-ba6c-3229f9d38ec2",
   "metadata": {},
   "outputs": [],
   "source": [
    "sample_num = np.int(x.shape[0]*1.5)\n",
    "choose = np.random.randint(0,x.shape[0],(sample_num))\n",
    "y_new = y[choose,:]"
   ]
  },
  {
   "cell_type": "code",
   "execution_count": 27,
   "id": "86eed99e-c7ee-4955-872b-33b50ae09de0",
   "metadata": {},
   "outputs": [],
   "source": [
    "y = np.load('classify/'+str(0)+'y.npy')\n",
    "x = np.load('classify/'+str(0)+'.npy')"
   ]
  },
  {
   "cell_type": "code",
   "execution_count": 37,
   "id": "becabbeb-5055-4f69-9a0e-9eca4f8b7c6f",
   "metadata": {},
   "outputs": [],
   "source": [
    "\n",
    "index = np.arange(0, 0+sample_num)#list(map(int,y[choose,0]))\n",
    "y_new[:,0] = index"
   ]
  },
  {
   "cell_type": "code",
   "execution_count": 19,
   "id": "68723b10-16c6-4778-aaba-7537320ac368",
   "metadata": {},
   "outputs": [],
   "source": [
    "df = df[df.Dx.apply(in_27_classes)].sample(frac=1, random_state=42).reset_index(drop=True)"
   ]
  },
  {
   "cell_type": "code",
   "execution_count": 25,
   "id": "172ca342-93dd-401c-ab7f-27b26ef7f56f",
   "metadata": {},
   "outputs": [
    {
     "data": {
      "text/html": [
       "<div>\n",
       "<style scoped>\n",
       "    .dataframe tbody tr th:only-of-type {\n",
       "        vertical-align: middle;\n",
       "    }\n",
       "\n",
       "    .dataframe tbody tr th {\n",
       "        vertical-align: top;\n",
       "    }\n",
       "\n",
       "    .dataframe thead th {\n",
       "        text-align: right;\n",
       "    }\n",
       "</style>\n",
       "<table border=\"1\" class=\"dataframe\">\n",
       "  <thead>\n",
       "    <tr style=\"text-align: right;\">\n",
       "      <th></th>\n",
       "      <th>ID</th>\n",
       "      <th>FID</th>\n",
       "      <th>Dx</th>\n",
       "      <th>L</th>\n",
       "    </tr>\n",
       "  </thead>\n",
       "  <tbody>\n",
       "    <tr>\n",
       "      <th>0</th>\n",
       "      <td>202138</td>\n",
       "      <td>A2138</td>\n",
       "      <td>59118001</td>\n",
       "      <td>5000</td>\n",
       "    </tr>\n",
       "    <tr>\n",
       "      <th>1</th>\n",
       "      <td>250819</td>\n",
       "      <td>HR20819</td>\n",
       "      <td>164865005,164951009,39732003,426783006</td>\n",
       "      <td>5000</td>\n",
       "    </tr>\n",
       "    <tr>\n",
       "      <th>2</th>\n",
       "      <td>245567</td>\n",
       "      <td>HR15567</td>\n",
       "      <td>164861001,164873001,164951009,39732003,426783006</td>\n",
       "      <td>5000</td>\n",
       "    </tr>\n",
       "    <tr>\n",
       "      <th>3</th>\n",
       "      <td>244822</td>\n",
       "      <td>HR14822</td>\n",
       "      <td>39732003,426783006,445118002</td>\n",
       "      <td>5000</td>\n",
       "    </tr>\n",
       "    <tr>\n",
       "      <th>4</th>\n",
       "      <td>260584</td>\n",
       "      <td>E05584</td>\n",
       "      <td>713426002,428750005</td>\n",
       "      <td>5000</td>\n",
       "    </tr>\n",
       "    <tr>\n",
       "      <th>...</th>\n",
       "      <td>...</td>\n",
       "      <td>...</td>\n",
       "      <td>...</td>\n",
       "      <td>...</td>\n",
       "    </tr>\n",
       "    <tr>\n",
       "      <th>37614</th>\n",
       "      <td>240423</td>\n",
       "      <td>HR10423</td>\n",
       "      <td>426783006</td>\n",
       "      <td>5000</td>\n",
       "    </tr>\n",
       "    <tr>\n",
       "      <th>37615</th>\n",
       "      <td>227791</td>\n",
       "      <td>Q2791</td>\n",
       "      <td>164867002,164889003,428750005</td>\n",
       "      <td>11500</td>\n",
       "    </tr>\n",
       "    <tr>\n",
       "      <th>37616</th>\n",
       "      <td>234801</td>\n",
       "      <td>HR04801</td>\n",
       "      <td>164861001,164873001,164951009,266249003,397320...</td>\n",
       "      <td>5000</td>\n",
       "    </tr>\n",
       "    <tr>\n",
       "      <th>37617</th>\n",
       "      <td>201121</td>\n",
       "      <td>A1121</td>\n",
       "      <td>426783006</td>\n",
       "      <td>5500</td>\n",
       "    </tr>\n",
       "    <tr>\n",
       "      <th>37618</th>\n",
       "      <td>239362</td>\n",
       "      <td>HR09362</td>\n",
       "      <td>426783006</td>\n",
       "      <td>5000</td>\n",
       "    </tr>\n",
       "  </tbody>\n",
       "</table>\n",
       "<p>37619 rows × 4 columns</p>\n",
       "</div>"
      ],
      "text/plain": [
       "           ID      FID                                                 Dx  \\\n",
       "0      202138    A2138                                           59118001   \n",
       "1      250819  HR20819             164865005,164951009,39732003,426783006   \n",
       "2      245567  HR15567   164861001,164873001,164951009,39732003,426783006   \n",
       "3      244822  HR14822                       39732003,426783006,445118002   \n",
       "4      260584   E05584                                713426002,428750005   \n",
       "...       ...      ...                                                ...   \n",
       "37614  240423  HR10423                                          426783006   \n",
       "37615  227791    Q2791                      164867002,164889003,428750005   \n",
       "37616  234801  HR04801  164861001,164873001,164951009,266249003,397320...   \n",
       "37617  201121    A1121                                          426783006   \n",
       "37618  239362  HR09362                                          426783006   \n",
       "\n",
       "           L  \n",
       "0       5000  \n",
       "1       5000  \n",
       "2       5000  \n",
       "3       5000  \n",
       "4       5000  \n",
       "...      ...  \n",
       "37614   5000  \n",
       "37615  11500  \n",
       "37616   5000  \n",
       "37617   5500  \n",
       "37618   5000  \n",
       "\n",
       "[37619 rows x 4 columns]"
      ]
     },
     "execution_count": 25,
     "metadata": {},
     "output_type": "execute_result"
    }
   ],
   "source": [
    "df"
   ]
  },
  {
   "cell_type": "code",
   "execution_count": 20,
   "id": "77a0c77e-28f0-4e80-921d-2ca57c2f2cbb",
   "metadata": {},
   "outputs": [
    {
     "name": "stdout",
     "output_type": "stream",
     "text": [
      "ID     37619\n",
      "FID    37619\n",
      "Dx     37619\n",
      "L      37619\n",
      "dtype: int64 37619\n"
     ]
    },
    {
     "data": {
      "text/plain": [
       "0        202138\n",
       "1        250819\n",
       "2        245567\n",
       "3        244822\n",
       "4        260584\n",
       "          ...  \n",
       "37614    240423\n",
       "37615    227791\n",
       "37616    234801\n",
       "37617    201121\n",
       "37618    239362\n",
       "Name: ID, Length: 37619, dtype: int64"
      ]
     },
     "execution_count": 20,
     "metadata": {},
     "output_type": "execute_result"
    }
   ],
   "source": [
    "print(df.count(),len(df))\n",
    "\n",
    "str(df.loc[0,['Dx']])\n",
    "(df)['ID']"
   ]
  },
  {
   "cell_type": "code",
   "execution_count": 23,
   "id": "7c5da1ca-161b-44e9-9e22-cc442be9f230",
   "metadata": {},
   "outputs": [],
   "source": [
    "df.loc[:30000,['ID', 'Dx']].to_csv('data2/train.csv', index=False)\n",
    "df.loc[30001:,['ID', 'Dx']].to_csv('data2/test.csv', index=False)"
   ]
  },
  {
   "cell_type": "code",
   "execution_count": 11,
   "id": "54750b92-1eb2-4c27-b6ae-424d3366842b",
   "metadata": {},
   "outputs": [
    {
     "name": "stdout",
     "output_type": "stream",
     "text": [
      "ID,Dx\n",
      "239547,426783006\n",
      "240303,\"251146004,426783006\"\n",
      "231439,\"164861001,164865005,164873001,164884008,164889003\"\n",
      "250796,426783006\n",
      "237087,426783006\n",
      "264027,426783006\n",
      "259191,426177001\n",
      "242086,426783006\n",
      "243376,\"164951009,39732003,426783006,713427006,89792004\"\n"
     ]
    }
   ],
   "source": [
    "! head test.csv"
   ]
  },
  {
   "cell_type": "code",
   "execution_count": null,
   "id": "af6f3a50-37c3-465a-a369-d422ee75936a",
   "metadata": {},
   "outputs": [],
   "source": [
    "id2indextrain = {}\n",
    "for i in range(len(trainy['ID'])):\n",
    "    ID = trainy['ID'][i]\n",
    "    id2indextrain[ID] = i"
   ]
  },
  {
   "cell_type": "code",
   "execution_count": 11,
   "id": "fa844a65-9680-402d-b0d6-a924bfff0b48",
   "metadata": {},
   "outputs": [
    {
     "data": {
      "text/plain": [
       "array([[206821,      0,      0, ...,      0,      0,      0],\n",
       "       [255326,      1,      0, ...,      0,      0,      0],\n",
       "       [230875,      0,      0, ...,      0,      0,      0],\n",
       "       ...,\n",
       "       [246175,      1,      0, ...,      0,      0,      0],\n",
       "       [205374,      0,      0, ...,      0,      0,      0],\n",
       "       [239547,      0,      0, ...,      0,      0,      0]])"
      ]
     },
     "execution_count": 11,
     "metadata": {},
     "output_type": "execute_result"
    }
   ],
   "source": [
    "train_y=train_y.astype(int)"
   ]
  },
  {
   "cell_type": "code",
   "execution_count": 24,
   "id": "3c38d81d-5c8a-44e5-907d-5794e43940bb",
   "metadata": {},
   "outputs": [],
   "source": [
    "def focal_loss_fixed(y_true, y_pred):\n",
    "    gamma=2.\n",
    "    alpha=1.\n",
    "    pt_1 = tf.where(tf.equal(y_true, 1), y_pred, tf.ones_like(y_pred))\n",
    "    pt_0 = tf.where(tf.equal(y_true, 0), y_pred, tf.zeros_like(y_pred))\n",
    "\n",
    "    return -K.mean(alpha * K.pow(1. - pt_1, gamma) * K.log(pt_1+K.epsilon())) - K.mean((1 - alpha) * K.pow(pt_0, gamma) * K.log(1. - pt_0 + K.epsilon()))\n"
   ]
  },
  {
   "cell_type": "code",
   "execution_count": 25,
   "id": "2dc255a6-5070-4500-abaa-1a0e718b1f1e",
   "metadata": {},
   "outputs": [],
   "source": [
    "from keras.models import load_model, Sequential\n",
    "import tensorflow_addons as tfa\n",
    "import tensorflow.keras.backend as tkb\n",
    "\n",
    "i = 0\n",
    "model = load_model('result/0707/wt1focal/multilabel_model_07071'+str(i+5)+str(i)+'.h5',\n",
    "                   custom_objects={'focal_loss_fixed': focal_loss_fixed})"
   ]
  },
  {
   "cell_type": "code",
   "execution_count": 61,
   "id": "cedefa19-aca5-4dd4-b3ae-af78bab2f61f",
   "metadata": {},
   "outputs": [],
   "source": [
    "y_pred = model.predict(test_x)\n"
   ]
  },
  {
   "cell_type": "code",
   "execution_count": 47,
   "id": "0455eb53-ba25-42ab-b324-3bbfaf544eb5",
   "metadata": {},
   "outputs": [],
   "source": [
    "# transform back to logits\n",
    "_epsilon = tf.convert_to_tensor(tkb.epsilon(), y_pred1.dtype.base_dtype)\n",
    "y_pred = tf.clip_by_value(y_pred1, _epsilon, 1 - _epsilon)\n",
    "y_pred = tf.math.log(y_pred / (1 - y_pred))\n",
    "pos_wts =[9.481893394818934,7.078080903104421,79.83995815899581,124.05339805825243,32.80708661417323,\n",
    "          14.416517055655296,10.748707813925206,3.0728853754940713,23.706841432225065,42.83607487237663,\n",
    "          22.98603351955307,123.8513731825525,14.22217845184164,39.632492113564666,60.776978417266186, \n",
    "          14.216184288245717,18.699974509304106,52.70604586518416,12.136664966853646,21.175896700143472, \n",
    "          10.224836601307189,1.484744236890332,9.918762362249224,124.25607779578606,4.202840985593106,\n",
    "          17.50646551724138,52.93091416608514]\n"
   ]
  },
  {
   "cell_type": "code",
   "execution_count": 69,
   "id": "e0a543c4-2d5d-4ffb-810f-710ecaabf07f",
   "metadata": {},
   "outputs": [],
   "source": [
    "i = 0\n",
    "loss = tf.nn.weighted_cross_entropy_with_logits(labels=y_true[:,i],\n",
    "                                                    logits=y_pred[:,i],\n",
    "                                                    pos_weight=pos_wts[i])"
   ]
  },
  {
   "cell_type": "code",
   "execution_count": 70,
   "id": "578f4ba3-ea0d-4802-a67a-5f75a19c21fe",
   "metadata": {},
   "outputs": [
    {
     "data": {
      "text/plain": [
       "<tf.Tensor: shape=(8245,), dtype=float32, numpy=\n",
       "array([0.69812804, 0.79882586, 0.69447476, ..., 0.69797456, 0.69644254,\n",
       "       0.70219713], dtype=float32)>"
      ]
     },
     "execution_count": 70,
     "metadata": {},
     "output_type": "execute_result"
    }
   ],
   "source": [
    "loss"
   ]
  },
  {
   "cell_type": "code",
   "execution_count": 67,
   "id": "ccbb9d39-e0ba-4ceb-81e0-d7cd487d5ade",
   "metadata": {},
   "outputs": [],
   "source": [
    "y_pred1 = tf.convert_to_tensor(y_pred, dtype=tf.float32)"
   ]
  },
  {
   "cell_type": "code",
   "execution_count": 71,
   "id": "5718da98-fcfd-4d2e-9d3e-1f5421ac735a",
   "metadata": {},
   "outputs": [],
   "source": [
    "test_y = np.load('test_y.npy')[:,1:].astype(np.float32)\n"
   ]
  },
  {
   "cell_type": "code",
   "execution_count": 75,
   "id": "b6d154d7-9044-4f7d-b0ff-37ce03241fb8",
   "metadata": {},
   "outputs": [
    {
     "data": {
      "text/plain": [
       "array([[0., 0., 0., ..., 0., 0., 0.],\n",
       "       [0., 1., 0., ..., 0., 0., 0.],\n",
       "       [0., 0., 0., ..., 0., 0., 0.],\n",
       "       ...,\n",
       "       [0., 0., 0., ..., 0., 0., 0.],\n",
       "       [0., 0., 0., ..., 0., 0., 0.],\n",
       "       [0., 0., 0., ..., 0., 0., 0.]], dtype=float32)"
      ]
     },
     "execution_count": 75,
     "metadata": {},
     "output_type": "execute_result"
    }
   ],
   "source": [
    "test_y"
   ]
  },
  {
   "cell_type": "code",
   "execution_count": 74,
   "id": "ec8f41b8-427e-4a5e-8b9c-99ec2e55d664",
   "metadata": {},
   "outputs": [
    {
     "data": {
      "text/plain": [
       "numpy.float32"
      ]
     },
     "execution_count": 74,
     "metadata": {},
     "output_type": "execute_result"
    }
   ],
   "source": [
    "type(test_y[0,1])"
   ]
  },
  {
   "cell_type": "code",
   "execution_count": 64,
   "id": "9be81732-4e2f-4ffa-8379-e84c11935270",
   "metadata": {},
   "outputs": [
    {
     "data": {
      "text/plain": [
       "<tf.Tensor: shape=(8245, 27), dtype=float64, numpy=\n",
       "array([[0., 0., 0., ..., 0., 0., 0.],\n",
       "       [0., 1., 0., ..., 0., 0., 0.],\n",
       "       [0., 0., 0., ..., 0., 0., 0.],\n",
       "       ...,\n",
       "       [0., 0., 0., ..., 0., 0., 0.],\n",
       "       [0., 0., 0., ..., 0., 0., 0.],\n",
       "       [0., 0., 0., ..., 0., 0., 0.]])>"
      ]
     },
     "execution_count": 64,
     "metadata": {},
     "output_type": "execute_result"
    }
   ],
   "source": [
    "y_true"
   ]
  },
  {
   "cell_type": "code",
   "execution_count": 72,
   "id": "e27e8d94-1290-4e8a-a9f5-ae62e486ccd0",
   "metadata": {},
   "outputs": [
    {
     "data": {
      "text/plain": [
       "37619"
      ]
     },
     "execution_count": 72,
     "metadata": {},
     "output_type": "execute_result"
    }
   ],
   "source": [
    "test_y = np.load('data2/test_y.npy')\n",
    "train_y = np.load('data2/train_y.npy')\n",
    "len(test_y)+len(train_y)"
   ]
  },
  {
   "cell_type": "code",
   "execution_count": 34,
   "id": "910dabac-2844-4ab5-bb23-95968ba5b8f7",
   "metadata": {},
   "outputs": [],
   "source": [
    "new = np.zeros((8245,1))\n",
    "for i in range(len(test_y)):\n",
    "    new[i,0] = testy.loc[i][0]\n"
   ]
  },
  {
   "cell_type": "code",
   "execution_count": 195,
   "id": "08f83036-11ff-4666-9a98-bc03e8c974f4",
   "metadata": {},
   "outputs": [
    {
     "data": {
      "text/plain": [
       "array([0., 1., 0., 0., 0., 0., 0., 0., 0., 0., 0., 0., 0., 0., 0., 0., 0.,\n",
       "       0., 0., 0., 0., 0., 0., 0., 0., 0., 0.])"
      ]
     },
     "execution_count": 195,
     "metadata": {},
     "output_type": "execute_result"
    }
   ],
   "source": [
    "#test_y = np.hstack((new,test_y))\n",
    "test_y[:,1:].shape"
   ]
  },
  {
   "cell_type": "code",
   "execution_count": 65,
   "id": "0abf7de9-9be2-42cc-9e55-7a972174228d",
   "metadata": {},
   "outputs": [],
   "source": [
    "np.save('train_y.npy',train_y)"
   ]
  },
  {
   "cell_type": "code",
   "execution_count": 56,
   "id": "ee5c7c17-a3cc-4bea-a260-8a46bed15553",
   "metadata": {},
   "outputs": [
    {
     "data": {
      "text/plain": [
       "0"
      ]
     },
     "execution_count": 56,
     "metadata": {},
     "output_type": "execute_result"
    }
   ],
   "source": [
    "len(os.listdir('ecgtrain'))\n",
    "len(os.listdir('ecgtest'))"
   ]
  },
  {
   "cell_type": "code",
   "execution_count": 3,
   "id": "ad9a5b69-40d4-4a38-bf74-7e0e278039b0",
   "metadata": {},
   "outputs": [
    {
     "name": "stdout",
     "output_type": "stream",
     "text": [
      "multilabel_model_0719162.h5\n",
      "multilabel_model_0719161.h5\n",
      "multilabel_model_0719164.h5\n",
      "multilabel_model_0719150.h5\n",
      "multilabel_model_0719163.h5\n"
     ]
    }
   ],
   "source": [
    "import os\n",
    "for file in os.listdir('result/0719/weightedloss/'):\n",
    "    print(file)"
   ]
  },
  {
   "cell_type": "code",
   "execution_count": 4,
   "id": "916ff3dc-9bbd-4b26-abbd-8322ba2e591e",
   "metadata": {},
   "outputs": [
    {
     "data": {
      "text/plain": [
       "['multilabel_model_0719162.h5',\n",
       " 'multilabel_model_0719161.h5',\n",
       " 'multilabel_model_0719164.h5',\n",
       " 'multilabel_model_0719150.h5',\n",
       " 'multilabel_model_0719163.h5']"
      ]
     },
     "execution_count": 4,
     "metadata": {},
     "output_type": "execute_result"
    }
   ],
   "source": [
    "os.listdir('result/0719/weightedloss/')"
   ]
  },
  {
   "cell_type": "code",
   "execution_count": 51,
   "id": "0dd843b1-1c13-4fbd-b124-432d0a97e16f",
   "metadata": {},
   "outputs": [
    {
     "data": {
      "text/plain": [
       "['2-.npy', '2-.npy', '2-.npy', '4-.npy', '12.npy', '21.npy']"
      ]
     },
     "execution_count": 51,
     "metadata": {},
     "output_type": "execute_result"
    }
   ],
   "source": [
    "sorted(\n",
    "        ['2-.npy', '2-.npy', '4-.npy','12.npy', '2-.npy', '21.npy'], key=lambda x: int(x[0]) if x[1] == '-' else int(x[:2]))"
   ]
  },
  {
   "cell_type": "code",
   "execution_count": 73,
   "id": "9b705a36-6914-4db2-b66b-fcbc58f6237f",
   "metadata": {},
   "outputs": [],
   "source": [
    "counter = {}\n",
    "for i in range(1,28):\n",
    "    counter[i-1] = int(sum(train_y[:,i]))"
   ]
  },
  {
   "cell_type": "code",
   "execution_count": 74,
   "id": "5deccb89-b6eb-45f0-96bc-ae8ef7cf1064",
   "metadata": {},
   "outputs": [
    {
     "data": {
      "text/plain": [
       "{0: 1915,\n",
       " 1: 2764,\n",
       " 2: 252,\n",
       " 3: 219,\n",
       " 4: 523,\n",
       " 5: 1283,\n",
       " 6: 1416,\n",
       " 7: 4818,\n",
       " 8: 843,\n",
       " 9: 454,\n",
       " 10: 793,\n",
       " 11: 254,\n",
       " 12: 1383,\n",
       " 13: 148,\n",
       " 14: 269,\n",
       " 15: 1212,\n",
       " 16: 807,\n",
       " 17: 329,\n",
       " 18: 1916,\n",
       " 19: 984,\n",
       " 20: 1903,\n",
       " 21: 16489,\n",
       " 22: 1934,\n",
       " 23: 173,\n",
       " 24: 3726,\n",
       " 25: 899,\n",
       " 26: 282}"
      ]
     },
     "execution_count": 74,
     "metadata": {},
     "output_type": "execute_result"
    }
   ],
   "source": [
    "counter"
   ]
  },
  {
   "cell_type": "code",
   "execution_count": 53,
   "id": "75690554-25bd-464d-98db-80d0d649d498",
   "metadata": {},
   "outputs": [
    {
     "data": {
      "text/plain": [
       "4111.5"
      ]
     },
     "execution_count": 53,
     "metadata": {},
     "output_type": "execute_result"
    }
   ],
   "source": [
    "np.sum([counter[key] for key in newkeys])*1.5"
   ]
  },
  {
   "cell_type": "code",
   "execution_count": 57,
   "id": "e76da6c8-cb42-4550-8f1d-3498ecab9a27",
   "metadata": {},
   "outputs": [
    {
     "data": {
      "text/plain": [
       "array([1879, 2696,  244,  211,  516, 1234, 1403,  815,  439,  776,  235,\n",
       "       1373,  689,  259, 1189,  810,  345, 1866,  992, 1845, 1915,  163,\n",
       "        880,  295])"
      ]
     },
     "execution_count": 57,
     "metadata": {},
     "output_type": "execute_result"
    }
   ],
   "source": [
    "a = np.array( list(counter[key] for key in keys))\n",
    "a\n",
    "\n",
    "#np.sum(a[:])"
   ]
  },
  {
   "cell_type": "code",
   "execution_count": 58,
   "id": "158df0ca-453d-4ad0-84cd-40dd06902d96",
   "metadata": {},
   "outputs": [],
   "source": [
    "\n",
    "a = list(map(int, a*1.5))\n"
   ]
  },
  {
   "cell_type": "code",
   "execution_count": 59,
   "id": "8d1f1227-810a-4a0c-b20a-f2efac4265d2",
   "metadata": {},
   "outputs": [
    {
     "data": {
      "text/plain": [
       "34596"
      ]
     },
     "execution_count": 59,
     "metadata": {},
     "output_type": "execute_result"
    }
   ],
   "source": [
    "np.sum(a)"
   ]
  },
  {
   "cell_type": "code",
   "execution_count": 12,
   "id": "d417616d-d4f8-4f8c-b8d2-653e16ef055c",
   "metadata": {},
   "outputs": [
    {
     "name": "stdout",
     "output_type": "stream",
     "text": [
      "16213.0\n"
     ]
    },
    {
     "data": {
      "text/plain": [
       "{0: 25.34573582116018,\n",
       " 1: 14.747392607351602,\n",
       " 2: 541.6395075252537,\n",
       " 3: 673.5524048919552,\n",
       " 4: 176.1248035122267,\n",
       " 5: 47.6236123553626,\n",
       " 6: 39.28335462323158,\n",
       " 7: 6.244777346665236,\n",
       " 8: 88.72758499006852,\n",
       " 9: 224.43898381195044,\n",
       " 10: 95.49980661876873,\n",
       " 11: 573.0510078045274,\n",
       " 12: 40.57787203148497,\n",
       " 13: 114.14745714630708,\n",
       " 14: 495.2738838571483,\n",
       " 15: 50.35264538922846,\n",
       " 16: 89.55040322831849,\n",
       " 17: 322.15615366930547,\n",
       " 18: 25.611063618261223,\n",
       " 19: 66.0735385301596,\n",
       " 20: 26.049567571343328,\n",
       " 21: 1.0,\n",
       " 22: 24.634395326738932,\n",
       " 23: 992.0045575859164,\n",
       " 24: 9.258798428276235,\n",
       " 25: 79.08080213736375,\n",
       " 26: 407.4384866643187}"
      ]
     },
     "execution_count": 12,
     "metadata": {},
     "output_type": "execute_result"
    }
   ],
   "source": [
    "max_val = float(max(counter.values()))  \n",
    "print(max_val)\n",
    "class_weight = {class_id : (max_val/num_ecg)**1 for class_id, num_ecg in counter.items()}\n",
    "class_weight"
   ]
  },
  {
   "cell_type": "code",
   "execution_count": 96,
   "id": "f98cd812-4aa8-44a9-8266-6dccb0f1ff83",
   "metadata": {},
   "outputs": [
    {
     "data": {
      "text/plain": [
       "'ecgtrain5000/259668.npy'"
      ]
     },
     "execution_count": 96,
     "metadata": {},
     "output_type": "execute_result"
    }
   ],
   "source": [
    "(os.path.join('ecgtrain5000', '259668.npy'))"
   ]
  },
  {
   "cell_type": "code",
   "execution_count": 51,
   "id": "979ca10b-3144-40f1-8b3d-fd58d3437601",
   "metadata": {},
   "outputs": [
    {
     "data": {
      "text/plain": [
       "array([0., 1., 0., 0., 0., 0., 0., 0., 0., 0., 0., 0., 0., 0., 0., 0., 0.,\n",
       "       0., 0., 0., 0., 0., 0., 0., 0., 0., 0.])"
      ]
     },
     "execution_count": 51,
     "metadata": {},
     "output_type": "execute_result"
    }
   ],
   "source": [
    "test_y[test_y[:,0]==int(test_y[2,0])][0,1:]"
   ]
  },
  {
   "cell_type": "code",
   "execution_count": 33,
   "id": "eaa67354-a285-44e7-8b10-442a25f468b1",
   "metadata": {},
   "outputs": [
    {
     "data": {
      "text/plain": [
       "37619"
      ]
     },
     "execution_count": 33,
     "metadata": {},
     "output_type": "execute_result"
    }
   ],
   "source": [
    "len(trainy)+len(testy)"
   ]
  },
  {
   "cell_type": "code",
   "execution_count": 88,
   "id": "ccd7db5c-c597-4c87-b6ec-99f1582219a6",
   "metadata": {},
   "outputs": [
    {
     "data": {
      "text/plain": [
       "array([[202138,      0,      0,      0,      0,      0,      0,      0,\n",
       "             0,      0,      0,      0,      0,      0,      0,      0,\n",
       "             0,      0,      0,      1,      0,      0,      0,      0,\n",
       "             0,      0,      0,      0],\n",
       "       [250819,      0,      0,      0,      0,      0,      0,      0,\n",
       "             1,      0,      0,      0,      0,      0,      0,      0,\n",
       "             0,      0,      0,      0,      0,      0,      1,      0,\n",
       "             0,      0,      0,      0],\n",
       "       [245567,      0,      0,      0,      0,      0,      0,      0,\n",
       "             1,      0,      0,      0,      0,      0,      0,      0,\n",
       "             0,      0,      0,      0,      0,      0,      1,      0,\n",
       "             0,      0,      0,      0],\n",
       "       [244822,      0,      0,      0,      0,      0,      0,      1,\n",
       "             1,      0,      0,      0,      0,      0,      0,      0,\n",
       "             0,      0,      0,      0,      0,      0,      1,      0,\n",
       "             0,      0,      0,      0],\n",
       "       [260584,      0,      0,      0,      0,      0,      1,      0,\n",
       "             0,      0,      0,      0,      0,      0,      0,      0,\n",
       "             0,      0,      0,      0,      0,      0,      0,      0,\n",
       "             0,      0,      0,      0],\n",
       "       [238822,      0,      0,      0,      0,      0,      0,      0,\n",
       "             0,      0,      0,      0,      0,      0,      0,      0,\n",
       "             0,      0,      0,      0,      0,      0,      1,      0,\n",
       "             0,      0,      0,      0],\n",
       "       [237727,      1,      0,      0,      0,      0,      0,      0,\n",
       "             1,      0,      0,      0,      0,      0,      0,      0,\n",
       "             1,      0,      0,      0,      0,      0,      0,      0,\n",
       "             0,      0,      0,      0],\n",
       "       [238642,      0,      0,      0,      0,      0,      0,      0,\n",
       "             0,      0,      0,      0,      0,      0,      0,      0,\n",
       "             0,      0,      0,      0,      0,      0,      1,      0,\n",
       "             0,      0,      0,      0],\n",
       "       [236133,      0,      0,      0,      0,      0,      0,      0,\n",
       "             0,      0,      0,      0,      0,      0,      0,      0,\n",
       "             0,      0,      0,      0,      0,      0,      1,      0,\n",
       "             0,      0,      0,      0],\n",
       "       [202787,      0,      0,      0,      0,      0,      0,      0,\n",
       "             0,      0,      0,      0,      0,      0,      0,      0,\n",
       "             0,      0,      0,      1,      0,      0,      0,      0,\n",
       "             0,      0,      0,      0]])"
      ]
     },
     "execution_count": 88,
     "metadata": {},
     "output_type": "execute_result"
    }
   ],
   "source": [
    "train_y[:10]"
   ]
  },
  {
   "cell_type": "code",
   "execution_count": 87,
   "id": "99d56bfc-2da8-454c-9f05-da2e00b641d3",
   "metadata": {},
   "outputs": [
    {
     "data": {
      "text/plain": [
       "array([[202138,      0,      0,      0,      0,      0,      0,      0,\n",
       "             0,      0,      0,      0,      0,      0,      0,      0,\n",
       "             0,      0,      0,      0,      0,      0,      0,      0,\n",
       "             0],\n",
       "       [250819,      0,      0,      0,      0,      0,      0,      0,\n",
       "             1,      0,      0,      0,      0,      0,      0,      0,\n",
       "             0,      0,      0,      0,      0,      1,      0,      0,\n",
       "             0],\n",
       "       [245567,      0,      0,      0,      0,      0,      0,      0,\n",
       "             1,      0,      0,      0,      0,      0,      0,      0,\n",
       "             0,      0,      0,      0,      0,      1,      0,      0,\n",
       "             0],\n",
       "       [244822,      0,      0,      0,      0,      0,      0,      1,\n",
       "             1,      0,      0,      0,      0,      0,      0,      0,\n",
       "             0,      0,      0,      0,      0,      1,      0,      0,\n",
       "             0],\n",
       "       [260584,      0,      0,      0,      0,      0,      1,      0,\n",
       "             0,      0,      0,      0,      0,      0,      0,      0,\n",
       "             0,      0,      0,      0,      0,      0,      0,      0,\n",
       "             0],\n",
       "       [238822,      0,      0,      0,      0,      0,      0,      0,\n",
       "             0,      0,      0,      0,      0,      0,      0,      0,\n",
       "             0,      0,      0,      0,      0,      1,      0,      0,\n",
       "             0],\n",
       "       [237727,      1,      0,      0,      0,      0,      0,      0,\n",
       "             1,      0,      0,      0,      0,      0,      0,      0,\n",
       "             1,      0,      0,      0,      0,      0,      0,      0,\n",
       "             0],\n",
       "       [238642,      0,      0,      0,      0,      0,      0,      0,\n",
       "             0,      0,      0,      0,      0,      0,      0,      0,\n",
       "             0,      0,      0,      0,      0,      1,      0,      0,\n",
       "             0],\n",
       "       [236133,      0,      0,      0,      0,      0,      0,      0,\n",
       "             0,      0,      0,      0,      0,      0,      0,      0,\n",
       "             0,      0,      0,      0,      0,      1,      0,      0,\n",
       "             0],\n",
       "       [202787,      0,      0,      0,      0,      0,      0,      0,\n",
       "             0,      0,      0,      0,      0,      0,      0,      0,\n",
       "             0,      0,      0,      0,      0,      0,      0,      0,\n",
       "             0]])"
      ]
     },
     "execution_count": 87,
     "metadata": {},
     "output_type": "execute_result"
    }
   ],
   "source": [
    "index=np.hstack((np.arange(19),np.arange(20,24), np.arange(25,27))) \n",
    "train_y[:10,index]"
   ]
  },
  {
   "cell_type": "code",
   "execution_count": 89,
   "id": "6b890a44-4657-444e-9f7a-fef86a167079",
   "metadata": {},
   "outputs": [],
   "source": [
    "def transto24(train_y):\n",
    "    for i in range(train_y.shape[0]):\n",
    "        if train_y[i, 19]:\n",
    "            train_y[i, 5] = 1\n",
    "        if train_y[i, 24]:\n",
    "            train_y[i, 13] = 1\n",
    "        if train_y[i, 27]:\n",
    "            train_y[i, 14] = 1\n",
    "    index = np.hstack((np.arange(19),np.arange(20,24), np.arange(25,27))) \n",
    "    return train_y[:,index]\n",
    "train_yy = transto24(train_y)\n",
    "test_yy = transto24(test_y)\n",
    "np.save('data2/train_y24.npy',train_yy)\n",
    "np.save('data2/test_y24.npy',test_yy)"
   ]
  },
  {
   "cell_type": "code",
   "execution_count": 32,
   "id": "5129a801-f2da-4a73-9b8d-bb12d8aa6f94",
   "metadata": {},
   "outputs": [],
   "source": [
    "#df.loc[:100,['Dx']], generate target matrix\n",
    "def generate(df):\n",
    "    new = np.zeros((len(df),len(classes))) #our target matrix\n",
    "    for i in range(len(df)):\n",
    "        catolist = df.loc[i][1].split(',')\n",
    "        for cato in catolist:\n",
    "            if int(cato) in classes:\n",
    "                new[i,transdict[int(cato)]] = 1\n",
    "    return new\n",
    "\n",
    "def generate24(df):\n",
    "    new = np.zeros((len(df),24)) #our target matrix\n",
    "    for i in range(len(df)):\n",
    "        catolist = df.loc[i][1].split(',')\n",
    "        for cato in catolist:\n",
    "            if int(cato) in classes:\n",
    "                new[i,transdict[int(cato)]] = 1\n",
    "    return new\n",
    "\n",
    "trainy = pd.read_csv('data2/train.csv')\n",
    "testy = pd.read_csv('data2/test.csv')\n",
    "train_y = generate(trainy)\n",
    "test_y = generate(testy)\n",
    "np.save('data2/train_y.npy',train_y)\n",
    "np.save('data2/test_y.npy',test_y)\n"
   ]
  },
  {
   "cell_type": "code",
   "execution_count": 45,
   "id": "880bd43d-69e2-40f8-9bed-cee730a9909d",
   "metadata": {},
   "outputs": [],
   "source": [
    "indextrain = np.array(indextrain).reshape((train_y.shape[0],1))\n",
    "indextest = np.array(indextest).reshape((test_y.shape[0],1))"
   ]
  },
  {
   "cell_type": "code",
   "execution_count": 69,
   "id": "cae59852-5e05-42be-be9f-ae1289df1d83",
   "metadata": {},
   "outputs": [
    {
     "data": {
      "text/html": [
       "<div>\n",
       "<style scoped>\n",
       "    .dataframe tbody tr th:only-of-type {\n",
       "        vertical-align: middle;\n",
       "    }\n",
       "\n",
       "    .dataframe tbody tr th {\n",
       "        vertical-align: top;\n",
       "    }\n",
       "\n",
       "    .dataframe thead th {\n",
       "        text-align: right;\n",
       "    }\n",
       "</style>\n",
       "<table border=\"1\" class=\"dataframe\">\n",
       "  <thead>\n",
       "    <tr style=\"text-align: right;\">\n",
       "      <th></th>\n",
       "      <th>ID</th>\n",
       "      <th>Dx</th>\n",
       "    </tr>\n",
       "  </thead>\n",
       "  <tbody>\n",
       "    <tr>\n",
       "      <th>0</th>\n",
       "      <td>206821</td>\n",
       "      <td>426783006</td>\n",
       "    </tr>\n",
       "    <tr>\n",
       "      <th>1</th>\n",
       "      <td>255326</td>\n",
       "      <td>59118001,270492004</td>\n",
       "    </tr>\n",
       "    <tr>\n",
       "      <th>2</th>\n",
       "      <td>230875</td>\n",
       "      <td>164947007,426783006</td>\n",
       "    </tr>\n",
       "    <tr>\n",
       "      <th>3</th>\n",
       "      <td>228332</td>\n",
       "      <td>284470004,164865005</td>\n",
       "    </tr>\n",
       "    <tr>\n",
       "      <th>4</th>\n",
       "      <td>255526</td>\n",
       "      <td>428750005,59931005</td>\n",
       "    </tr>\n",
       "    <tr>\n",
       "      <th>...</th>\n",
       "      <td>...</td>\n",
       "      <td>...</td>\n",
       "    </tr>\n",
       "    <tr>\n",
       "      <th>29996</th>\n",
       "      <td>264894</td>\n",
       "      <td>427084000</td>\n",
       "    </tr>\n",
       "    <tr>\n",
       "      <th>29997</th>\n",
       "      <td>247843</td>\n",
       "      <td>164934002,426783006</td>\n",
       "    </tr>\n",
       "    <tr>\n",
       "      <th>29998</th>\n",
       "      <td>246175</td>\n",
       "      <td>164865005,251146004,270492004,39732003,426783006</td>\n",
       "    </tr>\n",
       "    <tr>\n",
       "      <th>29999</th>\n",
       "      <td>205374</td>\n",
       "      <td>59118001</td>\n",
       "    </tr>\n",
       "    <tr>\n",
       "      <th>30000</th>\n",
       "      <td>239547</td>\n",
       "      <td>426783006</td>\n",
       "    </tr>\n",
       "  </tbody>\n",
       "</table>\n",
       "<p>30001 rows × 2 columns</p>\n",
       "</div>"
      ],
      "text/plain": [
       "           ID                                                Dx\n",
       "0      206821                                         426783006\n",
       "1      255326                                59118001,270492004\n",
       "2      230875                               164947007,426783006\n",
       "3      228332                               284470004,164865005\n",
       "4      255526                                428750005,59931005\n",
       "...       ...                                               ...\n",
       "29996  264894                                         427084000\n",
       "29997  247843                               164934002,426783006\n",
       "29998  246175  164865005,251146004,270492004,39732003,426783006\n",
       "29999  205374                                          59118001\n",
       "30000  239547                                         426783006\n",
       "\n",
       "[30001 rows x 2 columns]"
      ]
     },
     "execution_count": 69,
     "metadata": {},
     "output_type": "execute_result"
    }
   ],
   "source": [
    "trainy"
   ]
  },
  {
   "cell_type": "code",
   "execution_count": 48,
   "id": "738d5e49-217e-40c8-a997-dff7b0d36c3c",
   "metadata": {},
   "outputs": [],
   "source": [
    "train_y = np.hstack((indextrain,train_y))\n",
    "test_y = np.hstack((indextest,test_y))"
   ]
  },
  {
   "cell_type": "code",
   "execution_count": 50,
   "id": "ed4790c3-40a5-4d38-b7e3-371b715fc484",
   "metadata": {},
   "outputs": [],
   "source": [
    "y = y.astype(int)"
   ]
  },
  {
   "cell_type": "code",
   "execution_count": 58,
   "id": "d5614464-ecb7-4a84-ae74-3a88a7840d21",
   "metadata": {},
   "outputs": [],
   "source": [
    "np.save('data2/test_y.npy',test_y)\n"
   ]
  },
  {
   "cell_type": "code",
   "execution_count": 57,
   "id": "19e3a9fd-0f17-4ff6-9a13-f0c872e1a422",
   "metadata": {},
   "outputs": [
    {
     "data": {
      "text/plain": [
       "array([[249363.,      0.,      0., ...,      0.,      0.,      0.],\n",
       "       [261220.,      0.,      0., ...,      0.,      0.,      0.],\n",
       "       [244008.,      0.,      0., ...,      0.,      0.,      0.],\n",
       "       ...,\n",
       "       [234801.,      0.,      0., ...,      0.,      0.,      0.],\n",
       "       [201121.,      0.,      0., ...,      0.,      0.,      0.],\n",
       "       [239362.,      0.,      0., ...,      0.,      0.,      0.]])"
      ]
     },
     "execution_count": 57,
     "metadata": {},
     "output_type": "execute_result"
    }
   ],
   "source": [
    "test_y"
   ]
  },
  {
   "cell_type": "code",
   "execution_count": 37,
   "id": "b62e71f0-7d49-4da0-99aa-d2d97fe5cd16",
   "metadata": {},
   "outputs": [],
   "source": [
    "def read_ecg_record_and_info(N, root='/ecgdb'):\n",
    "    subdir = '{:03d}'.format((N - 100000) // 5000 + 1)\n",
    "    h5 = '{}/{}/{}.h5'.format(root, subdir, N)\n",
    "    with h5py.File(h5, 'r') as f:\n",
    "        sig = f['signal'][()]\n",
    "        info = dict(f.attrs)\n",
    "    return sig, info"
   ]
  },
  {
   "cell_type": "code",
   "execution_count": 14,
   "id": "7cfec8e6-e0c1-4866-8e41-5984d4b791dc",
   "metadata": {},
   "outputs": [],
   "source": [
    "sig, other = read_ecg_record_and_info(240233)"
   ]
  },
  {
   "cell_type": "code",
   "execution_count": 12,
   "id": "2fae86e6-48d4-4d45-aeee-2882fed1141e",
   "metadata": {},
   "outputs": [
    {
     "data": {
      "text/plain": [
       "0    49.0\n",
       "1    56.0\n",
       "2    77.0\n",
       "3    65.0\n",
       "4    77.0\n",
       "Name: age, dtype: float64"
      ]
     },
     "execution_count": 12,
     "metadata": {},
     "output_type": "execute_result"
    }
   ],
   "source": [
    "other = pd.read_csv('other.csv')\n",
    "other.iloc[:5,1]"
   ]
  },
  {
   "cell_type": "code",
   "execution_count": 8,
   "id": "5f773ae5-c9a7-4506-a069-4464de279843",
   "metadata": {},
   "outputs": [],
   "source": [
    "with open(\"indextrain.txt\", \"r\") as fp:\n",
    "    train_id = json.load(fp)\n",
    "with open(\"indextest.txt\", \"r\") as fp:\n",
    "    test_id = json.load(fp)\n",
    "    \n",
    "    "
   ]
  },
  {
   "cell_type": "code",
   "execution_count": 14,
   "id": "3b07b885-5d36-4fd8-ac20-d401907254c9",
   "metadata": {},
   "outputs": [
    {
     "data": {
      "text/plain": [
       "(5000, 12)"
      ]
     },
     "execution_count": 14,
     "metadata": {},
     "output_type": "execute_result"
    }
   ],
   "source": [
    "x = np.load('ecgtrain/' + str(train_id[0]) + '.npy')\n",
    "x.shape"
   ]
  },
  {
   "cell_type": "code",
   "execution_count": 69,
   "id": "a7773748-7ee8-422a-9982-1a243e7c7d27",
   "metadata": {},
   "outputs": [],
   "source": [
    "agetest = []\n",
    "for ID in test_id:\n",
    "    agetest.append(other[other['ID']==ID]['age'])\n",
    "agetest = np.array(agetest)\n",
    "    "
   ]
  },
  {
   "cell_type": "code",
   "execution_count": 84,
   "id": "0d2d3828-1950-49cd-8541-24272bfaaada",
   "metadata": {},
   "outputs": [],
   "source": [
    "import collections\n",
    "def dataresamp():\n",
    "    dataresampling = collections.defaultdict(list)\n",
    "    dataresamplingy = collections.defaultdict(list)\n",
    "    for ID in train_id:\n",
    "        x = np.load('ecgtrain/' + str(ID) + '.npy')\n",
    "        y = train_y[train_y[:,0]==ID][0,:] #obtain class index\n",
    "        for cato in [7,24]:#range(1,28):\n",
    "            if y[cato+1]==1:\n",
    "                dataresampling[cato].append(x)\n",
    "                dataresamplingy[cato].append(y)\n",
    "    return dataresampling, dataresamplingy\n",
    "    \n",
    "    "
   ]
  },
  {
   "cell_type": "code",
   "execution_count": 85,
   "id": "749c4fc5-f2f2-423a-8e2f-f1531e91707b",
   "metadata": {},
   "outputs": [],
   "source": [
    "dataresampling, dataresamplingy = dataresamp()"
   ]
  },
  {
   "cell_type": "code",
   "execution_count": 130,
   "id": "465d18c5-dc3d-4414-a387-d43d65066614",
   "metadata": {},
   "outputs": [],
   "source": [
    "for key in newkeys:\n",
    "    np.save('classify/'+str(key)+'.npy', np.array(dataresampling[key]))\n",
    "for key in newkeys:\n",
    "    np.save('classify/'+str(key)+'y.npy', np.array(dataresamplingy[key]))"
   ]
  },
  {
   "cell_type": "code",
   "execution_count": 143,
   "id": "c7a3982e-3c85-4535-82f7-79e67bce8c46",
   "metadata": {},
   "outputs": [
    {
     "data": {
      "text/plain": [
       "(992, 28)"
      ]
     },
     "execution_count": 143,
     "metadata": {},
     "output_type": "execute_result"
    }
   ],
   "source": [
    "np.array(dataresamplingy[20]).shape"
   ]
  },
  {
   "cell_type": "code",
   "execution_count": 152,
   "id": "7d947357-e4a2-45ac-bb78-c5efe37c617a",
   "metadata": {},
   "outputs": [
    {
     "data": {
      "text/plain": [
       "(1879, 5000, 12)"
      ]
     },
     "execution_count": 152,
     "metadata": {},
     "output_type": "execute_result"
    }
   ],
   "source": [
    "xx = np.load('classify/'+str(0)+'.npy' )\n",
    "xx.shape"
   ]
  },
  {
   "cell_type": "code",
   "execution_count": 31,
   "id": "dcc9a90e-3353-4a15-b5a2-0ad1b5680043",
   "metadata": {},
   "outputs": [],
   "source": [
    "for key in keys:\n",
    "    np.save('classify/'+str(key)+'y.npy', np.array(dataresamplingy[i]))"
   ]
  },
  {
   "cell_type": "code",
   "execution_count": null,
   "id": "9364e5b9-d925-4381-87cb-a0c7dc066291",
   "metadata": {},
   "outputs": [],
   "source": [
    "np.save('class/'+str(0)+'.npy', np.array(dataresampling[i]))"
   ]
  },
  {
   "cell_type": "code",
   "execution_count": null,
   "id": "e36cfb0d-18ef-424a-81bf-28c3ac648ed8",
   "metadata": {},
   "outputs": [],
   "source": [
    "for i in range(27): \n",
    "    dataresampling[i] = np.array(dataresampling[i])"
   ]
  },
  {
   "cell_type": "code",
   "execution_count": 86,
   "id": "90e137bc-79db-4135-933a-ea403178df2a",
   "metadata": {},
   "outputs": [
    {
     "ename": "TypeError",
     "evalue": "Object of type 'ndarray' is not JSON serializable",
     "output_type": "error",
     "traceback": [
      "\u001b[0;31m---------------------------------------------------------------------------\u001b[0m",
      "\u001b[0;31mTypeError\u001b[0m                                 Traceback (most recent call last)",
      "\u001b[0;32m<ipython-input-86-7ce072190f62>\u001b[0m in \u001b[0;36m<module>\u001b[0;34m\u001b[0m\n\u001b[1;32m      1\u001b[0m \u001b[0;32mwith\u001b[0m \u001b[0mopen\u001b[0m\u001b[0;34m(\u001b[0m\u001b[0;34m\"presamplingx\"\u001b[0m\u001b[0;34m+\u001b[0m\u001b[0;34m\".json\"\u001b[0m\u001b[0;34m,\u001b[0m \u001b[0;34m\"w\"\u001b[0m\u001b[0;34m)\u001b[0m \u001b[0;32mas\u001b[0m \u001b[0mfp\u001b[0m\u001b[0;34m:\u001b[0m\u001b[0;34m\u001b[0m\u001b[0;34m\u001b[0m\u001b[0m\n\u001b[0;32m----> 2\u001b[0;31m     \u001b[0mjson\u001b[0m\u001b[0;34m.\u001b[0m\u001b[0mdump\u001b[0m\u001b[0;34m(\u001b[0m\u001b[0mdataresampling\u001b[0m\u001b[0;34m,\u001b[0m \u001b[0mfp\u001b[0m\u001b[0;34m)\u001b[0m\u001b[0;34m\u001b[0m\u001b[0;34m\u001b[0m\u001b[0m\n\u001b[0m",
      "\u001b[0;32m/usr/lib/python3.6/json/__init__.py\u001b[0m in \u001b[0;36mdump\u001b[0;34m(obj, fp, skipkeys, ensure_ascii, check_circular, allow_nan, cls, indent, separators, default, sort_keys, **kw)\u001b[0m\n\u001b[1;32m    177\u001b[0m     \u001b[0;31m# could accelerate with writelines in some versions of Python, at\u001b[0m\u001b[0;34m\u001b[0m\u001b[0;34m\u001b[0m\u001b[0;34m\u001b[0m\u001b[0m\n\u001b[1;32m    178\u001b[0m     \u001b[0;31m# a debuggability cost\u001b[0m\u001b[0;34m\u001b[0m\u001b[0;34m\u001b[0m\u001b[0;34m\u001b[0m\u001b[0m\n\u001b[0;32m--> 179\u001b[0;31m     \u001b[0;32mfor\u001b[0m \u001b[0mchunk\u001b[0m \u001b[0;32min\u001b[0m \u001b[0miterable\u001b[0m\u001b[0;34m:\u001b[0m\u001b[0;34m\u001b[0m\u001b[0;34m\u001b[0m\u001b[0m\n\u001b[0m\u001b[1;32m    180\u001b[0m         \u001b[0mfp\u001b[0m\u001b[0;34m.\u001b[0m\u001b[0mwrite\u001b[0m\u001b[0;34m(\u001b[0m\u001b[0mchunk\u001b[0m\u001b[0;34m)\u001b[0m\u001b[0;34m\u001b[0m\u001b[0;34m\u001b[0m\u001b[0m\n\u001b[1;32m    181\u001b[0m \u001b[0;34m\u001b[0m\u001b[0m\n",
      "\u001b[0;32m/usr/lib/python3.6/json/encoder.py\u001b[0m in \u001b[0;36m_iterencode\u001b[0;34m(o, _current_indent_level)\u001b[0m\n\u001b[1;32m    428\u001b[0m             \u001b[0;32myield\u001b[0m \u001b[0;32mfrom\u001b[0m \u001b[0m_iterencode_list\u001b[0m\u001b[0;34m(\u001b[0m\u001b[0mo\u001b[0m\u001b[0;34m,\u001b[0m \u001b[0m_current_indent_level\u001b[0m\u001b[0;34m)\u001b[0m\u001b[0;34m\u001b[0m\u001b[0;34m\u001b[0m\u001b[0m\n\u001b[1;32m    429\u001b[0m         \u001b[0;32melif\u001b[0m \u001b[0misinstance\u001b[0m\u001b[0;34m(\u001b[0m\u001b[0mo\u001b[0m\u001b[0;34m,\u001b[0m \u001b[0mdict\u001b[0m\u001b[0;34m)\u001b[0m\u001b[0;34m:\u001b[0m\u001b[0;34m\u001b[0m\u001b[0;34m\u001b[0m\u001b[0m\n\u001b[0;32m--> 430\u001b[0;31m             \u001b[0;32myield\u001b[0m \u001b[0;32mfrom\u001b[0m \u001b[0m_iterencode_dict\u001b[0m\u001b[0;34m(\u001b[0m\u001b[0mo\u001b[0m\u001b[0;34m,\u001b[0m \u001b[0m_current_indent_level\u001b[0m\u001b[0;34m)\u001b[0m\u001b[0;34m\u001b[0m\u001b[0;34m\u001b[0m\u001b[0m\n\u001b[0m\u001b[1;32m    431\u001b[0m         \u001b[0;32melse\u001b[0m\u001b[0;34m:\u001b[0m\u001b[0;34m\u001b[0m\u001b[0;34m\u001b[0m\u001b[0m\n\u001b[1;32m    432\u001b[0m             \u001b[0;32mif\u001b[0m \u001b[0mmarkers\u001b[0m \u001b[0;32mis\u001b[0m \u001b[0;32mnot\u001b[0m \u001b[0;32mNone\u001b[0m\u001b[0;34m:\u001b[0m\u001b[0;34m\u001b[0m\u001b[0;34m\u001b[0m\u001b[0m\n",
      "\u001b[0;32m/usr/lib/python3.6/json/encoder.py\u001b[0m in \u001b[0;36m_iterencode_dict\u001b[0;34m(dct, _current_indent_level)\u001b[0m\n\u001b[1;32m    402\u001b[0m                 \u001b[0;32melse\u001b[0m\u001b[0;34m:\u001b[0m\u001b[0;34m\u001b[0m\u001b[0;34m\u001b[0m\u001b[0m\n\u001b[1;32m    403\u001b[0m                     \u001b[0mchunks\u001b[0m \u001b[0;34m=\u001b[0m \u001b[0m_iterencode\u001b[0m\u001b[0;34m(\u001b[0m\u001b[0mvalue\u001b[0m\u001b[0;34m,\u001b[0m \u001b[0m_current_indent_level\u001b[0m\u001b[0;34m)\u001b[0m\u001b[0;34m\u001b[0m\u001b[0;34m\u001b[0m\u001b[0m\n\u001b[0;32m--> 404\u001b[0;31m                 \u001b[0;32myield\u001b[0m \u001b[0;32mfrom\u001b[0m \u001b[0mchunks\u001b[0m\u001b[0;34m\u001b[0m\u001b[0;34m\u001b[0m\u001b[0m\n\u001b[0m\u001b[1;32m    405\u001b[0m         \u001b[0;32mif\u001b[0m \u001b[0mnewline_indent\u001b[0m \u001b[0;32mis\u001b[0m \u001b[0;32mnot\u001b[0m \u001b[0;32mNone\u001b[0m\u001b[0;34m:\u001b[0m\u001b[0;34m\u001b[0m\u001b[0;34m\u001b[0m\u001b[0m\n\u001b[1;32m    406\u001b[0m             \u001b[0m_current_indent_level\u001b[0m \u001b[0;34m-=\u001b[0m \u001b[0;36m1\u001b[0m\u001b[0;34m\u001b[0m\u001b[0;34m\u001b[0m\u001b[0m\n",
      "\u001b[0;32m/usr/lib/python3.6/json/encoder.py\u001b[0m in \u001b[0;36m_iterencode_list\u001b[0;34m(lst, _current_indent_level)\u001b[0m\n\u001b[1;32m    323\u001b[0m                 \u001b[0;32melse\u001b[0m\u001b[0;34m:\u001b[0m\u001b[0;34m\u001b[0m\u001b[0;34m\u001b[0m\u001b[0m\n\u001b[1;32m    324\u001b[0m                     \u001b[0mchunks\u001b[0m \u001b[0;34m=\u001b[0m \u001b[0m_iterencode\u001b[0m\u001b[0;34m(\u001b[0m\u001b[0mvalue\u001b[0m\u001b[0;34m,\u001b[0m \u001b[0m_current_indent_level\u001b[0m\u001b[0;34m)\u001b[0m\u001b[0;34m\u001b[0m\u001b[0;34m\u001b[0m\u001b[0m\n\u001b[0;32m--> 325\u001b[0;31m                 \u001b[0;32myield\u001b[0m \u001b[0;32mfrom\u001b[0m \u001b[0mchunks\u001b[0m\u001b[0;34m\u001b[0m\u001b[0;34m\u001b[0m\u001b[0m\n\u001b[0m\u001b[1;32m    326\u001b[0m         \u001b[0;32mif\u001b[0m \u001b[0mnewline_indent\u001b[0m \u001b[0;32mis\u001b[0m \u001b[0;32mnot\u001b[0m \u001b[0;32mNone\u001b[0m\u001b[0;34m:\u001b[0m\u001b[0;34m\u001b[0m\u001b[0;34m\u001b[0m\u001b[0m\n\u001b[1;32m    327\u001b[0m             \u001b[0m_current_indent_level\u001b[0m \u001b[0;34m-=\u001b[0m \u001b[0;36m1\u001b[0m\u001b[0;34m\u001b[0m\u001b[0;34m\u001b[0m\u001b[0m\n",
      "\u001b[0;32m/usr/lib/python3.6/json/encoder.py\u001b[0m in \u001b[0;36m_iterencode\u001b[0;34m(o, _current_indent_level)\u001b[0m\n\u001b[1;32m    435\u001b[0m                     \u001b[0;32mraise\u001b[0m \u001b[0mValueError\u001b[0m\u001b[0;34m(\u001b[0m\u001b[0;34m\"Circular reference detected\"\u001b[0m\u001b[0;34m)\u001b[0m\u001b[0;34m\u001b[0m\u001b[0;34m\u001b[0m\u001b[0m\n\u001b[1;32m    436\u001b[0m                 \u001b[0mmarkers\u001b[0m\u001b[0;34m[\u001b[0m\u001b[0mmarkerid\u001b[0m\u001b[0;34m]\u001b[0m \u001b[0;34m=\u001b[0m \u001b[0mo\u001b[0m\u001b[0;34m\u001b[0m\u001b[0;34m\u001b[0m\u001b[0m\n\u001b[0;32m--> 437\u001b[0;31m             \u001b[0mo\u001b[0m \u001b[0;34m=\u001b[0m \u001b[0m_default\u001b[0m\u001b[0;34m(\u001b[0m\u001b[0mo\u001b[0m\u001b[0;34m)\u001b[0m\u001b[0;34m\u001b[0m\u001b[0;34m\u001b[0m\u001b[0m\n\u001b[0m\u001b[1;32m    438\u001b[0m             \u001b[0;32myield\u001b[0m \u001b[0;32mfrom\u001b[0m \u001b[0m_iterencode\u001b[0m\u001b[0;34m(\u001b[0m\u001b[0mo\u001b[0m\u001b[0;34m,\u001b[0m \u001b[0m_current_indent_level\u001b[0m\u001b[0;34m)\u001b[0m\u001b[0;34m\u001b[0m\u001b[0;34m\u001b[0m\u001b[0m\n\u001b[1;32m    439\u001b[0m             \u001b[0;32mif\u001b[0m \u001b[0mmarkers\u001b[0m \u001b[0;32mis\u001b[0m \u001b[0;32mnot\u001b[0m \u001b[0;32mNone\u001b[0m\u001b[0;34m:\u001b[0m\u001b[0;34m\u001b[0m\u001b[0;34m\u001b[0m\u001b[0m\n",
      "\u001b[0;32m/usr/lib/python3.6/json/encoder.py\u001b[0m in \u001b[0;36mdefault\u001b[0;34m(self, o)\u001b[0m\n\u001b[1;32m    178\u001b[0m         \"\"\"\n\u001b[1;32m    179\u001b[0m         raise TypeError(\"Object of type '%s' is not JSON serializable\" %\n\u001b[0;32m--> 180\u001b[0;31m                         o.__class__.__name__)\n\u001b[0m\u001b[1;32m    181\u001b[0m \u001b[0;34m\u001b[0m\u001b[0m\n\u001b[1;32m    182\u001b[0m     \u001b[0;32mdef\u001b[0m \u001b[0mencode\u001b[0m\u001b[0;34m(\u001b[0m\u001b[0mself\u001b[0m\u001b[0;34m,\u001b[0m \u001b[0mo\u001b[0m\u001b[0;34m)\u001b[0m\u001b[0;34m:\u001b[0m\u001b[0;34m\u001b[0m\u001b[0;34m\u001b[0m\u001b[0m\n",
      "\u001b[0;31mTypeError\u001b[0m: Object of type 'ndarray' is not JSON serializable"
     ]
    }
   ],
   "source": [
    "with open(\"presamplingx\"+\".json\", \"w\") as fp:\n",
    "    json.dump(dataresampling, fp)"
   ]
  },
  {
   "cell_type": "code",
   "execution_count": null,
   "id": "c908fd5f-5246-4899-ae54-fef96679b6fb",
   "metadata": {},
   "outputs": [],
   "source": [
    "#find class name \n",
    "class_name = transdict\n",
    "cnt = 0\n",
    "for ID in train_id:\n",
    "    _, other = read_ecg_record_and_info(ID)\n",
    "    other"
   ]
  },
  {
   "cell_type": "code",
   "execution_count": 107,
   "id": "9f941157-60d0-40ff-8beb-3675c7f73ab1",
   "metadata": {},
   "outputs": [
    {
     "data": {
      "text/plain": [
       "True"
      ]
     },
     "execution_count": 107,
     "metadata": {},
     "output_type": "execute_result"
    }
   ],
   "source": [
    "len(df)==len(other)"
   ]
  },
  {
   "cell_type": "code",
   "execution_count": 134,
   "id": "4122668d-7bea-4d8a-b3e5-b3c270752a46",
   "metadata": {},
   "outputs": [],
   "source": [
    "cnt1 = 0 #tr\n",
    "cnt2 = 0 #te\n",
    "ageminmaxfinal = []\n",
    "\n",
    "for i in range(len(df)):\n",
    "    ID = other['ID'][i]\n",
    "    if cnt1<len(train_id) and train_id[cnt1]==ID:\n",
    "        ageminmaxfinal.append(ageminmax[cnt1][0])\n",
    "        cnt1+=1\n",
    "    if test_id[cnt2]==ID:\n",
    "        ageminmaxfinal.append(ageteminmax[cnt2][0])\n",
    "        cnt2+=1\n",
    "    \n",
    "    \n",
    "    "
   ]
  },
  {
   "cell_type": "code",
   "execution_count": 139,
   "id": "c50be954-a842-400b-84fb-f6d10908c3ef",
   "metadata": {},
   "outputs": [
    {
     "data": {
      "text/plain": [
       "0.0"
      ]
     },
     "execution_count": 139,
     "metadata": {},
     "output_type": "execute_result"
    }
   ],
   "source": [
    "min(ageminmaxfinal)"
   ]
  },
  {
   "cell_type": "code",
   "execution_count": 125,
   "id": "03be0e70-88ac-4ca1-ab92-507608dfcea3",
   "metadata": {},
   "outputs": [
    {
     "data": {
      "text/plain": [
       "array([0, 1, 0, ..., 0, 0, 1])"
      ]
     },
     "execution_count": 125,
     "metadata": {},
     "output_type": "execute_result"
    }
   ],
   "source": [
    "lb = LabelBinarizer()\n",
    "lb.fit(other['sex'])\n",
    "lb.classes_\n",
    "sexoh = lb.transform(other['sex'])[:,0]\n",
    "sexoh"
   ]
  },
  {
   "cell_type": "code",
   "execution_count": 133,
   "id": "ab8d2dc7-508f-476c-8a07-a3967e238638",
   "metadata": {},
   "outputs": [
    {
     "data": {
      "text/plain": [
       "0.7216494845360825"
      ]
     },
     "execution_count": 133,
     "metadata": {},
     "output_type": "execute_result"
    }
   ],
   "source": [
    "ageteminmax[0][0]"
   ]
  },
  {
   "cell_type": "code",
   "execution_count": 140,
   "id": "1be32b44-99e5-4d27-83b2-3206974f3c5e",
   "metadata": {},
   "outputs": [],
   "source": [
    "\n",
    "otherprocess = pd.DataFrame({'ID':other['ID'], 'age':ageminmaxfinal, 'sex':sexoh})"
   ]
  },
  {
   "cell_type": "code",
   "execution_count": 141,
   "id": "5063a8ab-bbb1-4f72-92dc-258762ae934b",
   "metadata": {},
   "outputs": [
    {
     "data": {
      "text/html": [
       "<div>\n",
       "<style scoped>\n",
       "    .dataframe tbody tr th:only-of-type {\n",
       "        vertical-align: middle;\n",
       "    }\n",
       "\n",
       "    .dataframe tbody tr th {\n",
       "        vertical-align: top;\n",
       "    }\n",
       "\n",
       "    .dataframe thead th {\n",
       "        text-align: right;\n",
       "    }\n",
       "</style>\n",
       "<table border=\"1\" class=\"dataframe\">\n",
       "  <thead>\n",
       "    <tr style=\"text-align: right;\">\n",
       "      <th></th>\n",
       "      <th>ID</th>\n",
       "      <th>age</th>\n",
       "      <th>sex</th>\n",
       "    </tr>\n",
       "  </thead>\n",
       "  <tbody>\n",
       "    <tr>\n",
       "      <th>0</th>\n",
       "      <td>206821</td>\n",
       "      <td>0.494845</td>\n",
       "      <td>0</td>\n",
       "    </tr>\n",
       "    <tr>\n",
       "      <th>1</th>\n",
       "      <td>255326</td>\n",
       "      <td>0.567010</td>\n",
       "      <td>1</td>\n",
       "    </tr>\n",
       "    <tr>\n",
       "      <th>2</th>\n",
       "      <td>230875</td>\n",
       "      <td>0.783505</td>\n",
       "      <td>0</td>\n",
       "    </tr>\n",
       "    <tr>\n",
       "      <th>3</th>\n",
       "      <td>228332</td>\n",
       "      <td>0.659794</td>\n",
       "      <td>1</td>\n",
       "    </tr>\n",
       "    <tr>\n",
       "      <th>4</th>\n",
       "      <td>255526</td>\n",
       "      <td>0.783505</td>\n",
       "      <td>1</td>\n",
       "    </tr>\n",
       "    <tr>\n",
       "      <th>...</th>\n",
       "      <td>...</td>\n",
       "      <td>...</td>\n",
       "      <td>...</td>\n",
       "    </tr>\n",
       "    <tr>\n",
       "      <th>38241</th>\n",
       "      <td>226026</td>\n",
       "      <td>0.804124</td>\n",
       "      <td>1</td>\n",
       "    </tr>\n",
       "    <tr>\n",
       "      <th>38242</th>\n",
       "      <td>234170</td>\n",
       "      <td>0.845361</td>\n",
       "      <td>1</td>\n",
       "    </tr>\n",
       "    <tr>\n",
       "      <th>38243</th>\n",
       "      <td>265243</td>\n",
       "      <td>0.391753</td>\n",
       "      <td>0</td>\n",
       "    </tr>\n",
       "    <tr>\n",
       "      <th>38244</th>\n",
       "      <td>200990</td>\n",
       "      <td>0.618557</td>\n",
       "      <td>0</td>\n",
       "    </tr>\n",
       "    <tr>\n",
       "      <th>38245</th>\n",
       "      <td>238730</td>\n",
       "      <td>0.463918</td>\n",
       "      <td>1</td>\n",
       "    </tr>\n",
       "  </tbody>\n",
       "</table>\n",
       "<p>38246 rows × 3 columns</p>\n",
       "</div>"
      ],
      "text/plain": [
       "           ID       age  sex\n",
       "0      206821  0.494845    0\n",
       "1      255326  0.567010    1\n",
       "2      230875  0.783505    0\n",
       "3      228332  0.659794    1\n",
       "4      255526  0.783505    1\n",
       "...       ...       ...  ...\n",
       "38241  226026  0.804124    1\n",
       "38242  234170  0.845361    1\n",
       "38243  265243  0.391753    0\n",
       "38244  200990  0.618557    0\n",
       "38245  238730  0.463918    1\n",
       "\n",
       "[38246 rows x 3 columns]"
      ]
     },
     "execution_count": 141,
     "metadata": {},
     "output_type": "execute_result"
    }
   ],
   "source": [
    "otherprocess"
   ]
  },
  {
   "cell_type": "code",
   "execution_count": 142,
   "id": "d25e3750-f064-4ec0-abdb-88150b68669d",
   "metadata": {},
   "outputs": [],
   "source": [
    "otherprocess.to_csv('otherprocess.csv', index=False)"
   ]
  },
  {
   "cell_type": "code",
   "execution_count": 166,
   "id": "48e4ec35-2d92-4110-b086-a321bca84bee",
   "metadata": {},
   "outputs": [],
   "source": [
    "X2 = np.empty((64, 2))\n",
    "X2[1] = otherprocess[otherprocess['ID']==200990].iloc[0,1:]"
   ]
  },
  {
   "cell_type": "code",
   "execution_count": 167,
   "id": "add6d66c-4c78-404c-bd72-f0463d516bb1",
   "metadata": {},
   "outputs": [
    {
     "data": {
      "text/plain": [
       "array([0.6185567, 0.       ])"
      ]
     },
     "execution_count": 167,
     "metadata": {},
     "output_type": "execute_result"
    }
   ],
   "source": [
    "X2[1]"
   ]
  },
  {
   "cell_type": "code",
   "execution_count": 37,
   "id": "cb28bf16-7047-410d-9074-46650d2e1423",
   "metadata": {},
   "outputs": [],
   "source": [
    "agetrain = np.array(agetrain)\n",
    "len(agetrain[~np.isnan(agetrain)]  )+len(agetrain[np.isnan(agetrain)]  )"
   ]
  },
  {
   "cell_type": "code",
   "execution_count": 92,
   "id": "a1688f7d-f6a7-45e8-953c-51827ccd52fa",
   "metadata": {},
   "outputs": [
    {
     "name": "stdout",
     "output_type": "stream",
     "text": [
      "[104.] [-1.]\n"
     ]
    },
    {
     "data": {
      "text/plain": [
       "4284"
      ]
     },
     "execution_count": 92,
     "metadata": {},
     "output_type": "execute_result"
    }
   ],
   "source": [
    "print(max(agetest),min(agetest) )\n",
    "np.argwhere(agetest<0)[0,0]"
   ]
  },
  {
   "cell_type": "code",
   "execution_count": 77,
   "id": "9f1cb5c2-f28f-48c5-b178-d7e6cd63db03",
   "metadata": {},
   "outputs": [],
   "source": [
    "ageminmax = (agetrain-min(agetrain))/(max(agetrain)-min(agetrain))"
   ]
  },
  {
   "cell_type": "code",
   "execution_count": 98,
   "id": "c3e8bddd-b123-4b4b-aa39-ce68865a8395",
   "metadata": {},
   "outputs": [],
   "source": [
    "ageteminmax = (agetest-min(agetrain))/(max(agetrain)-min(agetrain))"
   ]
  },
  {
   "cell_type": "code",
   "execution_count": 100,
   "id": "996acaf6-2560-427a-9cf4-c16ec6f76f6e",
   "metadata": {},
   "outputs": [
    {
     "data": {
      "text/plain": [
       "array([0.03092784])"
      ]
     },
     "execution_count": 100,
     "metadata": {},
     "output_type": "execute_result"
    }
   ],
   "source": [
    "min(ageteminmax)"
   ]
  },
  {
   "cell_type": "code",
   "execution_count": 79,
   "id": "58908bfe-1b35-4510-9a33-a95d170fbbbc",
   "metadata": {},
   "outputs": [
    {
     "data": {
      "text/plain": [
       "30001"
      ]
     },
     "execution_count": 79,
     "metadata": {},
     "output_type": "execute_result"
    }
   ],
   "source": [
    "len(agetrain[agetrain>0])"
   ]
  },
  {
   "cell_type": "code",
   "execution_count": 76,
   "id": "ad8a4dad-3cc3-4c6d-9df6-27065db863a6",
   "metadata": {},
   "outputs": [],
   "source": [
    "agetrain[13420] = int(agetrain[agetrain>0].mean())\n",
    "agetrain[19966] = int(agetrain[agetrain>0].mean())\n",
    "agetrain[np.isnan(agetrain)] = 60"
   ]
  },
  {
   "cell_type": "code",
   "execution_count": 95,
   "id": "28e20b1f-d771-40c7-b459-448f885cc084",
   "metadata": {},
   "outputs": [],
   "source": [
    "agetest[np.argwhere(agetest<0)[0,0]] = int(agetest[agetest>0].mean())\n",
    "agetest[np.isnan(agetest)] =  int(agetest[agetest>0].mean())"
   ]
  },
  {
   "cell_type": "code",
   "execution_count": 91,
   "id": "f0ed91c1-d331-4a0d-9252-6b70d0a8a849",
   "metadata": {},
   "outputs": [
    {
     "data": {
      "text/plain": [
       "60"
      ]
     },
     "execution_count": 91,
     "metadata": {},
     "output_type": "execute_result"
    }
   ],
   "source": [
    "int(agetest[agetest>0].mean())"
   ]
  },
  {
   "cell_type": "code",
   "execution_count": 97,
   "id": "e9891464-5226-4002-8eb0-06f70030b0d0",
   "metadata": {},
   "outputs": [
    {
     "data": {
      "text/plain": [
       "0"
      ]
     },
     "execution_count": 97,
     "metadata": {},
     "output_type": "execute_result"
    }
   ],
   "source": [
    "np.sum((agetest)<0)"
   ]
  },
  {
   "cell_type": "code",
   "execution_count": 14,
   "id": "96921d7a-0fff-459f-bcd2-fcac4342dc28",
   "metadata": {},
   "outputs": [
    {
     "data": {
      "text/plain": [
       "0        F\n",
       "1        M\n",
       "2        F\n",
       "3        M\n",
       "4        M\n",
       "        ..\n",
       "38241    M\n",
       "38242    M\n",
       "38243    F\n",
       "38244    F\n",
       "38245    M\n",
       "Name: sex, Length: 38246, dtype: object"
      ]
     },
     "execution_count": 14,
     "metadata": {},
     "output_type": "execute_result"
    }
   ],
   "source": [
    "other['sex']"
   ]
  },
  {
   "cell_type": "code",
   "execution_count": 31,
   "id": "b3fddc72-4766-4a4c-9737-befb0f6fbdbd",
   "metadata": {},
   "outputs": [
    {
     "data": {
      "text/plain": [
       "163"
      ]
     },
     "execution_count": 31,
     "metadata": {},
     "output_type": "execute_result"
    }
   ],
   "source": [
    "agenalist = list(other.loc[pd.isna(other[\"age\"]), :].index)\n",
    "len(agenalist)\n"
   ]
  },
  {
   "cell_type": "code",
   "execution_count": 22,
   "id": "3cca6f35-b1a9-4ad5-82a1-e6b66157e0a2",
   "metadata": {},
   "outputs": [
    {
     "name": "stdout",
     "output_type": "stream",
     "text": [
      "(12, 2500) {'Dx': '426783006', 'age': 50.0, 'fid': 'E09923', 'fs': 500, 'n_sig': 12, 'sex': 'F', 'sig_len': 2500, 'sig_name': array(['I', 'II', 'III', 'aVR', 'aVL', 'aVF', 'V1', 'V2', 'V3', 'V4',\n",
      "       'V5', 'V6'], dtype=object)}\n"
     ]
    },
    {
     "data": {
      "text/plain": [
       "1"
      ]
     },
     "execution_count": 22,
     "metadata": {},
     "output_type": "execute_result"
    }
   ],
   "source": [
    "print(sig.shape, other)\n",
    "sig[0][0]=None\n",
    "np.sum(np.isnan(sig))\n"
   ]
  },
  {
   "cell_type": "code",
   "execution_count": 34,
   "id": "667efe1e-5eda-47f4-9cbb-d9965a6ddcdc",
   "metadata": {},
   "outputs": [],
   "source": [
    "indexna=[]\n",
    "def checkna(ID):\n",
    "    sig, _ = read_ecg_record_and_info(ID)\n",
    "    if np.sum(np.isnan(sig))>0:\n",
    "        indexna.append(ID)\n",
    "    \n",
    "\n",
    "for i in range(len(df)):\n",
    "    ID = df['ID'][i]\n",
    "    checkna(ID)\n"
   ]
  },
  {
   "cell_type": "code",
   "execution_count": 21,
   "id": "a1162b7b-70cf-447e-97c2-746b908282ac",
   "metadata": {},
   "outputs": [],
   "source": [
    "indexna=[259603, 261072, 261909, 262675, 262941, 263321]"
   ]
  },
  {
   "cell_type": "code",
   "execution_count": 22,
   "id": "c597c0cd-c06c-4913-9fed-dda268108f9c",
   "metadata": {},
   "outputs": [],
   "source": [
    "#deal with NAN value and assign 0\n",
    "indexna\n",
    "for index in indexna:\n",
    "    sig, _ = read_ecg_record_and_info(index)\n",
    "    sig[np.isnan(sig)] = 0\n",
    "    sig = sig[:,:5000]\n",
    "    np.save('ecgtrain/'+str(index)+'.npy',np.transpose(sig,(1,0)))"
   ]
  },
  {
   "cell_type": "code",
   "execution_count": 70,
   "id": "2402d807-4d46-4608-924d-c065f1d369aa",
   "metadata": {},
   "outputs": [
    {
     "data": {
      "text/plain": [
       "[259603, 261072, 261909, 262675, 262941, 263321]"
      ]
     },
     "execution_count": 70,
     "metadata": {},
     "output_type": "execute_result"
    }
   ],
   "source": [
    "indexna"
   ]
  },
  {
   "cell_type": "code",
   "execution_count": 34,
   "id": "81944490-00b4-4f38-922c-dbe001d88b7b",
   "metadata": {},
   "outputs": [],
   "source": [
    "IDs = []\n",
    "age = []\n",
    "sex = []\n",
    "for i in range(len(df)):\n",
    "    ID = df['ID'][i]\n",
    "    _, other = read_ecg_record_and_info(ID)\n",
    "    IDs.append(ID)\n",
    "    age.append(other['age'])\n",
    "    sex.append(other['sex'])\n",
    "other = pd.DataFrame({'ID':IDs, 'age':age, 'sex':sex})\n",
    "\n"
   ]
  },
  {
   "cell_type": "code",
   "execution_count": 78,
   "id": "091480af-f75f-4aeb-9cbd-b16ac1f9bec5",
   "metadata": {},
   "outputs": [
    {
     "ename": "KeyError",
     "evalue": "0",
     "output_type": "error",
     "traceback": [
      "\u001b[0;31m---------------------------------------------------------------------------\u001b[0m",
      "\u001b[0;31mKeyError\u001b[0m                                  Traceback (most recent call last)",
      "\u001b[0;32m/usr/local/lib/python3.6/dist-packages/pandas/core/indexes/base.py\u001b[0m in \u001b[0;36mget_loc\u001b[0;34m(self, key, method, tolerance)\u001b[0m\n\u001b[1;32m   2897\u001b[0m             \u001b[0;32mtry\u001b[0m\u001b[0;34m:\u001b[0m\u001b[0;34m\u001b[0m\u001b[0;34m\u001b[0m\u001b[0m\n\u001b[0;32m-> 2898\u001b[0;31m                 \u001b[0;32mreturn\u001b[0m \u001b[0mself\u001b[0m\u001b[0;34m.\u001b[0m\u001b[0m_engine\u001b[0m\u001b[0;34m.\u001b[0m\u001b[0mget_loc\u001b[0m\u001b[0;34m(\u001b[0m\u001b[0mcasted_key\u001b[0m\u001b[0;34m)\u001b[0m\u001b[0;34m\u001b[0m\u001b[0;34m\u001b[0m\u001b[0m\n\u001b[0m\u001b[1;32m   2899\u001b[0m             \u001b[0;32mexcept\u001b[0m \u001b[0mKeyError\u001b[0m \u001b[0;32mas\u001b[0m \u001b[0merr\u001b[0m\u001b[0;34m:\u001b[0m\u001b[0;34m\u001b[0m\u001b[0;34m\u001b[0m\u001b[0m\n",
      "\u001b[0;32mpandas/_libs/index.pyx\u001b[0m in \u001b[0;36mpandas._libs.index.IndexEngine.get_loc\u001b[0;34m()\u001b[0m\n",
      "\u001b[0;32mpandas/_libs/index.pyx\u001b[0m in \u001b[0;36mpandas._libs.index.IndexEngine.get_loc\u001b[0;34m()\u001b[0m\n",
      "\u001b[0;32mpandas/_libs/hashtable_class_helper.pxi\u001b[0m in \u001b[0;36mpandas._libs.hashtable.Int64HashTable.get_item\u001b[0;34m()\u001b[0m\n",
      "\u001b[0;32mpandas/_libs/hashtable_class_helper.pxi\u001b[0m in \u001b[0;36mpandas._libs.hashtable.Int64HashTable.get_item\u001b[0;34m()\u001b[0m\n",
      "\u001b[0;31mKeyError\u001b[0m: 0",
      "\nThe above exception was the direct cause of the following exception:\n",
      "\u001b[0;31mKeyError\u001b[0m                                  Traceback (most recent call last)",
      "\u001b[0;32m<ipython-input-78-ea44c65e39b4>\u001b[0m in \u001b[0;36m<module>\u001b[0;34m\u001b[0m\n\u001b[1;32m      9\u001b[0m \u001b[0;32mfor\u001b[0m \u001b[0mi\u001b[0m \u001b[0;32min\u001b[0m \u001b[0mrange\u001b[0m\u001b[0;34m(\u001b[0m\u001b[0mlen\u001b[0m\u001b[0;34m(\u001b[0m\u001b[0mtest_id\u001b[0m\u001b[0;34m)\u001b[0m\u001b[0;34m)\u001b[0m\u001b[0;34m:\u001b[0m\u001b[0;34m\u001b[0m\u001b[0;34m\u001b[0m\u001b[0m\n\u001b[1;32m     10\u001b[0m     \u001b[0mID\u001b[0m \u001b[0;34m=\u001b[0m \u001b[0mtest_id\u001b[0m\u001b[0;34m[\u001b[0m\u001b[0mi\u001b[0m\u001b[0;34m]\u001b[0m\u001b[0;34m\u001b[0m\u001b[0;34m\u001b[0m\u001b[0m\n\u001b[0;32m---> 11\u001b[0;31m     \u001b[0magete\u001b[0m\u001b[0;34m.\u001b[0m\u001b[0mappend\u001b[0m\u001b[0;34m(\u001b[0m\u001b[0mother\u001b[0m\u001b[0;34m[\u001b[0m\u001b[0mother\u001b[0m\u001b[0;34m[\u001b[0m\u001b[0;34m'ID'\u001b[0m\u001b[0;34m]\u001b[0m\u001b[0;34m==\u001b[0m\u001b[0mID\u001b[0m\u001b[0;34m]\u001b[0m\u001b[0;34m[\u001b[0m\u001b[0;34m'age'\u001b[0m\u001b[0;34m]\u001b[0m\u001b[0;34m[\u001b[0m\u001b[0mi\u001b[0m\u001b[0;34m]\u001b[0m\u001b[0;34m)\u001b[0m\u001b[0;34m\u001b[0m\u001b[0;34m\u001b[0m\u001b[0m\n\u001b[0m\u001b[1;32m     12\u001b[0m     \u001b[0msexte\u001b[0m\u001b[0;34m.\u001b[0m\u001b[0mappend\u001b[0m\u001b[0;34m(\u001b[0m\u001b[0mother\u001b[0m\u001b[0;34m[\u001b[0m\u001b[0mother\u001b[0m\u001b[0;34m[\u001b[0m\u001b[0;34m'ID'\u001b[0m\u001b[0;34m]\u001b[0m\u001b[0;34m==\u001b[0m\u001b[0mID\u001b[0m\u001b[0;34m]\u001b[0m\u001b[0;34m[\u001b[0m\u001b[0;34m'sex'\u001b[0m\u001b[0;34m]\u001b[0m\u001b[0;34m[\u001b[0m\u001b[0mi\u001b[0m\u001b[0;34m]\u001b[0m\u001b[0;34m)\u001b[0m\u001b[0;34m\u001b[0m\u001b[0;34m\u001b[0m\u001b[0m\n\u001b[1;32m     13\u001b[0m \u001b[0mothertr\u001b[0m \u001b[0;34m=\u001b[0m \u001b[0mnp\u001b[0m\u001b[0;34m.\u001b[0m\u001b[0mzeros\u001b[0m\u001b[0;34m(\u001b[0m\u001b[0;34m(\u001b[0m\u001b[0mlen\u001b[0m\u001b[0;34m(\u001b[0m\u001b[0mindextrain\u001b[0m\u001b[0;34m)\u001b[0m\u001b[0;34m,\u001b[0m\u001b[0;36m3\u001b[0m\u001b[0;34m)\u001b[0m\u001b[0;34m)\u001b[0m   \u001b[0;31m#age,female,male\u001b[0m\u001b[0;34m\u001b[0m\u001b[0;34m\u001b[0m\u001b[0m\n",
      "\u001b[0;32m/usr/local/lib/python3.6/dist-packages/pandas/core/series.py\u001b[0m in \u001b[0;36m__getitem__\u001b[0;34m(self, key)\u001b[0m\n\u001b[1;32m    880\u001b[0m \u001b[0;34m\u001b[0m\u001b[0m\n\u001b[1;32m    881\u001b[0m         \u001b[0;32melif\u001b[0m \u001b[0mkey_is_scalar\u001b[0m\u001b[0;34m:\u001b[0m\u001b[0;34m\u001b[0m\u001b[0;34m\u001b[0m\u001b[0m\n\u001b[0;32m--> 882\u001b[0;31m             \u001b[0;32mreturn\u001b[0m \u001b[0mself\u001b[0m\u001b[0;34m.\u001b[0m\u001b[0m_get_value\u001b[0m\u001b[0;34m(\u001b[0m\u001b[0mkey\u001b[0m\u001b[0;34m)\u001b[0m\u001b[0;34m\u001b[0m\u001b[0;34m\u001b[0m\u001b[0m\n\u001b[0m\u001b[1;32m    883\u001b[0m \u001b[0;34m\u001b[0m\u001b[0m\n\u001b[1;32m    884\u001b[0m         \u001b[0;32mif\u001b[0m \u001b[0mis_hashable\u001b[0m\u001b[0;34m(\u001b[0m\u001b[0mkey\u001b[0m\u001b[0;34m)\u001b[0m\u001b[0;34m:\u001b[0m\u001b[0;34m\u001b[0m\u001b[0;34m\u001b[0m\u001b[0m\n",
      "\u001b[0;32m/usr/local/lib/python3.6/dist-packages/pandas/core/series.py\u001b[0m in \u001b[0;36m_get_value\u001b[0;34m(self, label, takeable)\u001b[0m\n\u001b[1;32m    988\u001b[0m \u001b[0;34m\u001b[0m\u001b[0m\n\u001b[1;32m    989\u001b[0m         \u001b[0;31m# Similar to Index.get_value, but we do not fall back to positional\u001b[0m\u001b[0;34m\u001b[0m\u001b[0;34m\u001b[0m\u001b[0;34m\u001b[0m\u001b[0m\n\u001b[0;32m--> 990\u001b[0;31m         \u001b[0mloc\u001b[0m \u001b[0;34m=\u001b[0m \u001b[0mself\u001b[0m\u001b[0;34m.\u001b[0m\u001b[0mindex\u001b[0m\u001b[0;34m.\u001b[0m\u001b[0mget_loc\u001b[0m\u001b[0;34m(\u001b[0m\u001b[0mlabel\u001b[0m\u001b[0;34m)\u001b[0m\u001b[0;34m\u001b[0m\u001b[0;34m\u001b[0m\u001b[0m\n\u001b[0m\u001b[1;32m    991\u001b[0m         \u001b[0;32mreturn\u001b[0m \u001b[0mself\u001b[0m\u001b[0;34m.\u001b[0m\u001b[0mindex\u001b[0m\u001b[0;34m.\u001b[0m\u001b[0m_get_values_for_loc\u001b[0m\u001b[0;34m(\u001b[0m\u001b[0mself\u001b[0m\u001b[0;34m,\u001b[0m \u001b[0mloc\u001b[0m\u001b[0;34m,\u001b[0m \u001b[0mlabel\u001b[0m\u001b[0;34m)\u001b[0m\u001b[0;34m\u001b[0m\u001b[0;34m\u001b[0m\u001b[0m\n\u001b[1;32m    992\u001b[0m \u001b[0;34m\u001b[0m\u001b[0m\n",
      "\u001b[0;32m/usr/local/lib/python3.6/dist-packages/pandas/core/indexes/base.py\u001b[0m in \u001b[0;36mget_loc\u001b[0;34m(self, key, method, tolerance)\u001b[0m\n\u001b[1;32m   2898\u001b[0m                 \u001b[0;32mreturn\u001b[0m \u001b[0mself\u001b[0m\u001b[0;34m.\u001b[0m\u001b[0m_engine\u001b[0m\u001b[0;34m.\u001b[0m\u001b[0mget_loc\u001b[0m\u001b[0;34m(\u001b[0m\u001b[0mcasted_key\u001b[0m\u001b[0;34m)\u001b[0m\u001b[0;34m\u001b[0m\u001b[0;34m\u001b[0m\u001b[0m\n\u001b[1;32m   2899\u001b[0m             \u001b[0;32mexcept\u001b[0m \u001b[0mKeyError\u001b[0m \u001b[0;32mas\u001b[0m \u001b[0merr\u001b[0m\u001b[0;34m:\u001b[0m\u001b[0;34m\u001b[0m\u001b[0;34m\u001b[0m\u001b[0m\n\u001b[0;32m-> 2900\u001b[0;31m                 \u001b[0;32mraise\u001b[0m \u001b[0mKeyError\u001b[0m\u001b[0;34m(\u001b[0m\u001b[0mkey\u001b[0m\u001b[0;34m)\u001b[0m \u001b[0;32mfrom\u001b[0m \u001b[0merr\u001b[0m\u001b[0;34m\u001b[0m\u001b[0;34m\u001b[0m\u001b[0m\n\u001b[0m\u001b[1;32m   2901\u001b[0m \u001b[0;34m\u001b[0m\u001b[0m\n\u001b[1;32m   2902\u001b[0m         \u001b[0;32mif\u001b[0m \u001b[0mtolerance\u001b[0m \u001b[0;32mis\u001b[0m \u001b[0;32mnot\u001b[0m \u001b[0;32mNone\u001b[0m\u001b[0;34m:\u001b[0m\u001b[0;34m\u001b[0m\u001b[0;34m\u001b[0m\u001b[0m\n",
      "\u001b[0;31mKeyError\u001b[0m: 0"
     ]
    }
   ],
   "source": [
    "agetr = []\n",
    "sextr = []\n",
    "agete = []\n",
    "sexte = []\n",
    "for i in range(len(train_id)):\n",
    "    ID = train_id[i]\n",
    "    agetr.append(other[other['ID']==ID]['age'][i])\n",
    "    sextr.append(other[other['ID']==ID]['sex'][i])\n",
    "for i in range(len(test_id)):\n",
    "    ID = test_id[i]\n",
    "    agete.append(other[other['ID']==ID]['age'][i])\n",
    "    sexte.append(other[other['ID']==ID]['sex'][i])\n",
    "othertr = np.zeros((len(indextrain),3))   #age,female,male\n",
    "otherte = np.zeros((len(indextest),3))   #age,female,male\n",
    "\n",
    "\n",
    "    "
   ]
  },
  {
   "cell_type": "code",
   "execution_count": 61,
   "id": "0a2ede28-63e5-4447-85ec-f0e9bc7c34fa",
   "metadata": {},
   "outputs": [
    {
     "data": {
      "text/plain": [
       "['F']"
      ]
     },
     "execution_count": 61,
     "metadata": {},
     "output_type": "execute_result"
    }
   ],
   "source": [
    "sextr"
   ]
  },
  {
   "cell_type": "code",
   "execution_count": null,
   "id": "35ca4ae1-2b6a-4933-b895-7170193500f1",
   "metadata": {},
   "outputs": [],
   "source": []
  },
  {
   "cell_type": "code",
   "execution_count": 52,
   "id": "76a824ef-eb48-45c9-8b34-e5b13f90251d",
   "metadata": {},
   "outputs": [
    {
     "data": {
      "text/plain": [
       "'F'"
      ]
     },
     "execution_count": 52,
     "metadata": {},
     "output_type": "execute_result"
    }
   ],
   "source": [
    "other[other['ID']==206821]['sex'][0]"
   ]
  },
  {
   "cell_type": "code",
   "execution_count": 41,
   "id": "01a25e73-fbb7-4beb-84f5-4f68c1b4c60f",
   "metadata": {},
   "outputs": [
    {
     "data": {
      "text/plain": [
       "0"
      ]
     },
     "execution_count": 41,
     "metadata": {},
     "output_type": "execute_result"
    }
   ],
   "source": [
    "np.argwhere(np.isnan(sig))\n",
    "sig[np.isnan(sig)] = 0\n",
    "np.sum(np.isnan(sig))"
   ]
  },
  {
   "cell_type": "code",
   "execution_count": 61,
   "id": "d9bb07e9-a172-4afd-a341-a58939bd7019",
   "metadata": {},
   "outputs": [],
   "source": [
    "with open(\"data2/indextrain.txt\", \"w\") as fp:\n",
    "    json.dump(list(map(int,indextrain)), fp)\n",
    "with open(\"data2/indextest.txt\", \"w\") as fp:\n",
    "    json.dump(list(map(int,indextest)), fp)"
   ]
  },
  {
   "cell_type": "code",
   "execution_count": 71,
   "id": "2b1b77e6-f7c6-405a-9a88-7cfd1f79eb8e",
   "metadata": {},
   "outputs": [],
   "source": [
    "with open(\"indextrain.txt\", \"w\") as fp:\n",
    "    json.dump(list(map(int,indextrain)), fp)"
   ]
  },
  {
   "cell_type": "code",
   "execution_count": 66,
   "id": "481db41e-03df-48d8-baf6-119b6ffb6363",
   "metadata": {},
   "outputs": [
    {
     "data": {
      "text/plain": [
       "7618"
      ]
     },
     "execution_count": 66,
     "metadata": {},
     "output_type": "execute_result"
    }
   ],
   "source": [
    "len(indextest)"
   ]
  },
  {
   "cell_type": "code",
   "execution_count": 41,
   "id": "bb92d058-e061-4523-a3fd-d3048e73ed68",
   "metadata": {},
   "outputs": [],
   "source": [
    "with open(\"indexna.txt\", \"w\") as fp:\n",
    "    json.dump(list(map(int,indexna)), fp)"
   ]
  },
  {
   "cell_type": "code",
   "execution_count": 38,
   "id": "7c278a1b-8cc1-4da6-954a-065226fc6304",
   "metadata": {},
   "outputs": [],
   "source": [
    "indextrain = []\n",
    "for i in range(len(trainy)):    \n",
    "    #sig, _ = read_ecg_record_and_info(trainy.loc[i][0])\n",
    "    #if sig.shape[1]>=5000:\n",
    "    indextrain.append(int(trainy.loc[i][0]))\n",
    "indextest = []           \n",
    "for i in range(len(testy)):    \n",
    "    #sig, _ = read_ecg_record_and_info(testy.loc[i][0])\n",
    "    #if sig.shape[1]>=5000:\n",
    "    indextest.append(int(testy.loc[i][0]))\n",
    "        "
   ]
  },
  {
   "cell_type": "code",
   "execution_count": 40,
   "id": "7746b392-2083-4228-985a-1879c55ee68e",
   "metadata": {},
   "outputs": [
    {
     "data": {
      "text/plain": [
       "37619"
      ]
     },
     "execution_count": 40,
     "metadata": {},
     "output_type": "execute_result"
    }
   ],
   "source": [
    "len(indextrain)+len(indextest)"
   ]
  },
  {
   "cell_type": "code",
   "execution_count": 103,
   "id": "4e394250-0961-4675-86f1-2057c4db2e4e",
   "metadata": {},
   "outputs": [
    {
     "data": {
      "text/plain": [
       "[206821,\n",
       " 255326,\n",
       " 230875,\n",
       " 228332,\n",
       " 255526,\n",
       " 232393,\n",
       " 201557,\n",
       " 204710,\n",
       " 239190,\n",
       " 200546]"
      ]
     },
     "execution_count": 103,
     "metadata": {},
     "output_type": "execute_result"
    }
   ],
   "source": [
    "new = np.zeros((64,5001,12))\n",
    "for i in range(len(df)):\n",
    "    ID = df['ID'][i]\n",
    "    sig, other = read_ecg_record_and_info(ID)\n",
    "    new[i,:5000,:] = sig\n",
    "    "
   ]
  },
  {
   "cell_type": "code",
   "execution_count": 67,
   "id": "b960a2da-afe6-436f-9d5e-97ae2cc056e1",
   "metadata": {},
   "outputs": [],
   "source": [
    "from sklearn.model_selection import KFold\n",
    "kf = KFold(n_splits=5,shuffle=True,random_state=1)\n",
    "fivefdtridx = []\n",
    "fivefdvalidx = []\n",
    "for i,(train_index,test_index) in enumerate(kf.split(indextrain)):\n",
    "    trainid = np.array(indextrain)[train_index]\n",
    "    valid = np.array(indextrain)[test_index]\n",
    "    fivefdtridx.append(trainid)\n",
    "    fivefdvalidx.append(valid)\n",
    "fivedictr = {}\n",
    "fivedicval = {}\n",
    "for i in range(5):\n",
    "    fivedictr[i] = list(map(int,fivefdtridx[i]))\n",
    "    fivedicval[i] = list(map(int,fivefdvalidx[i]))\n",
    "with open('data2/fivefdtrid.json', 'w') as file:\n",
    "    json.dump(fivedictr, file)\n",
    "with open('data2/fivefdvalid.json', 'w') as file:\n",
    "    json.dump(fivedicval, file)"
   ]
  },
  {
   "cell_type": "code",
   "execution_count": 57,
   "id": "2a92c054-47ec-4d1e-893a-535b515e96c4",
   "metadata": {},
   "outputs": [
    {
     "name": "stdout",
     "output_type": "stream",
     "text": [
      "8245 30001 38246\n"
     ]
    }
   ],
   "source": [
    "'0713/multilossmpl.1/'\n",
    "print(len(indextest),len(indextrain),len(indextrain)+len(indextest))"
   ]
  },
  {
   "cell_type": "code",
   "execution_count": 19,
   "id": "117f638d-8162-4e5d-88f7-b5dfe7c34a01",
   "metadata": {},
   "outputs": [
    {
     "data": {
      "text/plain": [
       "'result/0713/multilossmpl.1'"
      ]
     },
     "execution_count": 19,
     "metadata": {},
     "output_type": "execute_result"
    }
   ],
   "source": [
    "'result/'+'0713/multilossmpl.1'\n"
   ]
  },
  {
   "cell_type": "code",
   "execution_count": 15,
   "id": "54194bd5-62cc-4922-a034-d74423c12cbd",
   "metadata": {},
   "outputs": [],
   "source": [
    "with open(\"indextrain.txt\", \"r\") as fp:\n",
    "    train_id = json.load(fp)\n",
    "with open(\"indextest.txt\", \"r\") as fp:\n",
    "    test_id = json.load(fp)\n",
    "train_y = np.load('train_y.npy')\n",
    "test_y = np.load('test_y.npy')\n",
    "test_x = []\n",
    "test_yy = []\n",
    "for ID in test_id:\n",
    "    test_x.append(np.load('ecgtest/' + str(ID) + '.npy'))\n",
    "    test_yy.append(test_y[test_y[:,0]==ID][0,1:]) \n",
    "\n",
    "test_x = np.array(test_x)\n",
    "test_y = np.array(test_yy)"
   ]
  },
  {
   "cell_type": "code",
   "execution_count": 28,
   "id": "daf86157-5ce6-48b7-ada5-4cfaf944afbc",
   "metadata": {},
   "outputs": [
    {
     "data": {
      "text/plain": [
       "(8245, 27)"
      ]
     },
     "execution_count": 28,
     "metadata": {},
     "output_type": "execute_result"
    }
   ],
   "source": [
    "test_y.shape"
   ]
  },
  {
   "cell_type": "code",
   "execution_count": 31,
   "id": "0deb24e0-3a06-46bb-8581-2e48b0478934",
   "metadata": {},
   "outputs": [
    {
     "ename": "ValueError",
     "evalue": "Imbalanced-learn currently supports binary, multiclass and binarized encoded multiclasss targets. Multilabel and multioutput targets are not supported.",
     "output_type": "error",
     "traceback": [
      "\u001b[0;31m---------------------------------------------------------------------------\u001b[0m",
      "\u001b[0;31mValueError\u001b[0m                                Traceback (most recent call last)",
      "\u001b[0;32m<ipython-input-31-0c49876f0431>\u001b[0m in \u001b[0;36m<module>\u001b[0;34m\u001b[0m\n\u001b[1;32m      2\u001b[0m \u001b[0mros\u001b[0m \u001b[0;34m=\u001b[0m \u001b[0mSMOTE\u001b[0m\u001b[0;34m(\u001b[0m\u001b[0mrandom_state\u001b[0m\u001b[0;34m=\u001b[0m\u001b[0;36m0\u001b[0m\u001b[0;34m)\u001b[0m\u001b[0;34m\u001b[0m\u001b[0;34m\u001b[0m\u001b[0m\n\u001b[1;32m      3\u001b[0m \u001b[0;34m\u001b[0m\u001b[0m\n\u001b[0;32m----> 4\u001b[0;31m \u001b[0mX_ros\u001b[0m\u001b[0;34m,\u001b[0m \u001b[0my_ros\u001b[0m \u001b[0;34m=\u001b[0m \u001b[0mros\u001b[0m\u001b[0;34m.\u001b[0m\u001b[0mfit_resample\u001b[0m\u001b[0;34m(\u001b[0m\u001b[0mtest_x\u001b[0m\u001b[0;34m,\u001b[0m \u001b[0mtest_y\u001b[0m\u001b[0;34m)\u001b[0m\u001b[0;34m\u001b[0m\u001b[0;34m\u001b[0m\u001b[0m\n\u001b[0m",
      "\u001b[0;32m/usr/local/lib/python3.6/dist-packages/imblearn/base.py\u001b[0m in \u001b[0;36mfit_resample\u001b[0;34m(self, X, y)\u001b[0m\n\u001b[1;32m     75\u001b[0m         \u001b[0mcheck_classification_targets\u001b[0m\u001b[0;34m(\u001b[0m\u001b[0my\u001b[0m\u001b[0;34m)\u001b[0m\u001b[0;34m\u001b[0m\u001b[0;34m\u001b[0m\u001b[0m\n\u001b[1;32m     76\u001b[0m         \u001b[0marrays_transformer\u001b[0m \u001b[0;34m=\u001b[0m \u001b[0mArraysTransformer\u001b[0m\u001b[0;34m(\u001b[0m\u001b[0mX\u001b[0m\u001b[0;34m,\u001b[0m \u001b[0my\u001b[0m\u001b[0;34m)\u001b[0m\u001b[0;34m\u001b[0m\u001b[0;34m\u001b[0m\u001b[0m\n\u001b[0;32m---> 77\u001b[0;31m         \u001b[0mX\u001b[0m\u001b[0;34m,\u001b[0m \u001b[0my\u001b[0m\u001b[0;34m,\u001b[0m \u001b[0mbinarize_y\u001b[0m \u001b[0;34m=\u001b[0m \u001b[0mself\u001b[0m\u001b[0;34m.\u001b[0m\u001b[0m_check_X_y\u001b[0m\u001b[0;34m(\u001b[0m\u001b[0mX\u001b[0m\u001b[0;34m,\u001b[0m \u001b[0my\u001b[0m\u001b[0;34m)\u001b[0m\u001b[0;34m\u001b[0m\u001b[0;34m\u001b[0m\u001b[0m\n\u001b[0m\u001b[1;32m     78\u001b[0m \u001b[0;34m\u001b[0m\u001b[0m\n\u001b[1;32m     79\u001b[0m         self.sampling_strategy_ = check_sampling_strategy(\n",
      "\u001b[0;32m/usr/local/lib/python3.6/dist-packages/imblearn/base.py\u001b[0m in \u001b[0;36m_check_X_y\u001b[0;34m(self, X, y, accept_sparse)\u001b[0m\n\u001b[1;32m    127\u001b[0m         \u001b[0;32mif\u001b[0m \u001b[0maccept_sparse\u001b[0m \u001b[0;32mis\u001b[0m \u001b[0;32mNone\u001b[0m\u001b[0;34m:\u001b[0m\u001b[0;34m\u001b[0m\u001b[0;34m\u001b[0m\u001b[0m\n\u001b[1;32m    128\u001b[0m             \u001b[0maccept_sparse\u001b[0m \u001b[0;34m=\u001b[0m \u001b[0;34m[\u001b[0m\u001b[0;34m\"csr\"\u001b[0m\u001b[0;34m,\u001b[0m \u001b[0;34m\"csc\"\u001b[0m\u001b[0;34m]\u001b[0m\u001b[0;34m\u001b[0m\u001b[0;34m\u001b[0m\u001b[0m\n\u001b[0;32m--> 129\u001b[0;31m         \u001b[0my\u001b[0m\u001b[0;34m,\u001b[0m \u001b[0mbinarize_y\u001b[0m \u001b[0;34m=\u001b[0m \u001b[0mcheck_target_type\u001b[0m\u001b[0;34m(\u001b[0m\u001b[0my\u001b[0m\u001b[0;34m,\u001b[0m \u001b[0mindicate_one_vs_all\u001b[0m\u001b[0;34m=\u001b[0m\u001b[0;32mTrue\u001b[0m\u001b[0;34m)\u001b[0m\u001b[0;34m\u001b[0m\u001b[0;34m\u001b[0m\u001b[0m\n\u001b[0m\u001b[1;32m    130\u001b[0m         \u001b[0mX\u001b[0m\u001b[0;34m,\u001b[0m \u001b[0my\u001b[0m \u001b[0;34m=\u001b[0m \u001b[0mself\u001b[0m\u001b[0;34m.\u001b[0m\u001b[0m_validate_data\u001b[0m\u001b[0;34m(\u001b[0m\u001b[0mX\u001b[0m\u001b[0;34m,\u001b[0m \u001b[0my\u001b[0m\u001b[0;34m,\u001b[0m \u001b[0mreset\u001b[0m\u001b[0;34m=\u001b[0m\u001b[0;32mTrue\u001b[0m\u001b[0;34m,\u001b[0m \u001b[0maccept_sparse\u001b[0m\u001b[0;34m=\u001b[0m\u001b[0maccept_sparse\u001b[0m\u001b[0;34m)\u001b[0m\u001b[0;34m\u001b[0m\u001b[0;34m\u001b[0m\u001b[0m\n\u001b[1;32m    131\u001b[0m         \u001b[0;32mreturn\u001b[0m \u001b[0mX\u001b[0m\u001b[0;34m,\u001b[0m \u001b[0my\u001b[0m\u001b[0;34m,\u001b[0m \u001b[0mbinarize_y\u001b[0m\u001b[0;34m\u001b[0m\u001b[0;34m\u001b[0m\u001b[0m\n",
      "\u001b[0;32m/usr/local/lib/python3.6/dist-packages/imblearn/utils/_validation.py\u001b[0m in \u001b[0;36mcheck_target_type\u001b[0;34m(y, indicate_one_vs_all)\u001b[0m\n\u001b[1;32m    132\u001b[0m         \u001b[0;32mif\u001b[0m \u001b[0mnp\u001b[0m\u001b[0;34m.\u001b[0m\u001b[0many\u001b[0m\u001b[0;34m(\u001b[0m\u001b[0my\u001b[0m\u001b[0;34m.\u001b[0m\u001b[0msum\u001b[0m\u001b[0;34m(\u001b[0m\u001b[0maxis\u001b[0m\u001b[0;34m=\u001b[0m\u001b[0;36m1\u001b[0m\u001b[0;34m)\u001b[0m \u001b[0;34m>\u001b[0m \u001b[0;36m1\u001b[0m\u001b[0;34m)\u001b[0m\u001b[0;34m:\u001b[0m\u001b[0;34m\u001b[0m\u001b[0;34m\u001b[0m\u001b[0m\n\u001b[1;32m    133\u001b[0m             raise ValueError(\n\u001b[0;32m--> 134\u001b[0;31m                 \u001b[0;34m\"Imbalanced-learn currently supports binary, multiclass and \"\u001b[0m\u001b[0;34m\u001b[0m\u001b[0;34m\u001b[0m\u001b[0m\n\u001b[0m\u001b[1;32m    135\u001b[0m                 \u001b[0;34m\"binarized encoded multiclasss targets. Multilabel and \"\u001b[0m\u001b[0;34m\u001b[0m\u001b[0;34m\u001b[0m\u001b[0m\n\u001b[1;32m    136\u001b[0m                 \u001b[0;34m\"multioutput targets are not supported.\"\u001b[0m\u001b[0;34m\u001b[0m\u001b[0;34m\u001b[0m\u001b[0m\n",
      "\u001b[0;31mValueError\u001b[0m: Imbalanced-learn currently supports binary, multiclass and binarized encoded multiclasss targets. Multilabel and multioutput targets are not supported."
     ]
    }
   ],
   "source": [
    "from imblearn.over_sampling import SMOTE\n",
    "ros = SMOTE(random_state=0)\n",
    "\n",
    "X_ros, y_ros = ros.fit_resample(test_x, test_y)\n"
   ]
  },
  {
   "cell_type": "code",
   "execution_count": 176,
   "id": "741073b1-6f4c-4616-b6cf-c4a8e8bf5a09",
   "metadata": {},
   "outputs": [
    {
     "data": {
      "text/plain": [
       "'channels_last'"
      ]
     },
     "execution_count": 176,
     "metadata": {},
     "output_type": "execute_result"
    }
   ],
   "source": [
    "import keras.backend as K\n",
    "K.image_data_format()"
   ]
  },
  {
   "cell_type": "code",
   "execution_count": 182,
   "id": "90a4dd87-dcdb-4fc3-a4de-919f3fd339ad",
   "metadata": {},
   "outputs": [],
   "source": [
    "with open(\"data2/indextrain.txt\", \"w\") as fp:\n",
    "    json.dump(indextrain, fp)\n",
    "\n",
    "with open(\"data2/indextest.txt\", \"w\") as fp:\n",
    "    json.dump(indextest, fp)"
   ]
  },
  {
   "cell_type": "code",
   "execution_count": 120,
   "id": "434f4748-7472-47c1-886d-ea4d07ed8110",
   "metadata": {},
   "outputs": [
    {
     "data": {
      "text/plain": [
       "8233"
      ]
     },
     "execution_count": 120,
     "metadata": {},
     "output_type": "execute_result"
    }
   ],
   "source": [
    "len(test_id)"
   ]
  },
  {
   "cell_type": "code",
   "execution_count": 112,
   "id": "691da431-021e-4f1d-9136-24209417c38b",
   "metadata": {},
   "outputs": [],
   "source": [
    "trainy.loc[1][0]\n",
    "\n",
    "test_x = np.zeros((len(testy),12,max(df['L'])))"
   ]
  },
  {
   "cell_type": "code",
   "execution_count": 100,
   "id": "77ab96bc-dede-42c9-836c-8ef5436eddd7",
   "metadata": {},
   "outputs": [
    {
     "name": "stdout",
     "output_type": "stream",
     "text": [
      "30001 8233 29959\n",
      "30001\n"
     ]
    }
   ],
   "source": [
    "print(len(trainy),len(os.listdir('ecgtest5000')),len(os.listdir('ecgtrain5000')))\n",
    "print(len(os.listdir('ecgtrain')))"
   ]
  },
  {
   "cell_type": "code",
   "execution_count": 20,
   "id": "5769071f-8891-4e11-96fd-8a116bc07d87",
   "metadata": {},
   "outputs": [
    {
     "name": "stdout",
     "output_type": "stream",
     "text": [
      "(12, 7500)\n",
      "[[ 0.24468821  0.22968851]\n",
      " [ 0.22841503  0.21742846]\n",
      " [-0.01627641 -0.01227279]\n",
      " [-0.23648237 -0.22348018]\n",
      " [ 0.12939914  0.12039987]\n",
      " [ 0.10486002  0.10186549]\n",
      " [-0.01836879 -0.01436347]\n",
      " [ 0.3780261   0.35602352]\n",
      " [ 0.27770615  0.26073414]\n",
      " [ 0.26451504  0.24753527]\n",
      " [ 0.29356524  0.27658698]\n",
      " [ 0.24786747  0.23485386]] (12, 2)\n",
      "(7500, 12) [[ 0.24468821  0.22841503 -0.01627641 -0.23648237  0.12939914  0.10486002\n",
      "  -0.01836879  0.3780261   0.27770615  0.26451504  0.29356524  0.24786747]\n",
      " [ 0.22968851  0.21742846 -0.01227279 -0.22348018  0.12039987  0.10186549\n",
      "  -0.01436347  0.35602352  0.26073414  0.24753527  0.27658698  0.23485386]]\n"
     ]
    }
   ],
   "source": [
    "i = 0\n",
    "sig, _ = read_ecg_record_and_info(trainy.loc[i][0])\n",
    "print(sig.shape)\n",
    "#train_x[i,:,:sig.shape[1]] = sig\n",
    "print(sig[:,:2],sig[:,:2].shape)\n",
    "print(np.transpose(sig,(1,0)).shape,np.transpose(sig,(1,0))[:2,:])"
   ]
  },
  {
   "cell_type": "code",
   "execution_count": 21,
   "id": "0a8657de-301f-46f5-9de6-581225195f3c",
   "metadata": {},
   "outputs": [],
   "source": [
    "def genex(trainy):\n",
    "    train_x = np.zeros((len(trainy),12,max(df['L'])))\n",
    "    for i in range(len(trainy)):\n",
    "        sig, _ = read_ecg_record_and_info(trainy.loc[i][0])\n",
    "        train_x[i,:,:sig.shape[1]] = sig\n",
    "    return train_x\n",
    "#train_x = genex(trainy)\n",
    "#test_x = genex(testy)"
   ]
  },
  {
   "cell_type": "code",
   "execution_count": 33,
   "id": "1b9b0440-bfea-441b-8aa8-cef5c9b6e2ce",
   "metadata": {},
   "outputs": [
    {
     "data": {
      "text/plain": [
       "206821"
      ]
     },
     "execution_count": 33,
     "metadata": {},
     "output_type": "execute_result"
    }
   ],
   "source": [
    "trainy.loc[0][0]"
   ]
  },
  {
   "cell_type": "code",
   "execution_count": 38,
   "id": "b8c62249-16be-4217-ae0d-c366aec0a70f",
   "metadata": {
    "tags": []
   },
   "outputs": [
    {
     "data": {
      "text/plain": [
       "'ecgtrain206821.npy'"
      ]
     },
     "execution_count": 38,
     "metadata": {},
     "output_type": "execute_result"
    }
   ],
   "source": [
    "'ecgtrain'+str(trainy.loc[0][0])+'.npy'"
   ]
  },
  {
   "cell_type": "code",
   "execution_count": 96,
   "id": "4587216b-a4b3-4ee0-add3-cdf6dc95762e",
   "metadata": {},
   "outputs": [],
   "source": [
    "def savex(trainy):\n",
    "    for i in range(len(trainy)):\n",
    "        tmp = np.zeros((5000,12))\n",
    "        sig, _ = read_ecg_record_and_info(trainy.loc[i][0])\n",
    "        sig = np.transpose(sig,(1,0)) #(5000,12)\n",
    "        \n",
    "        if sig.shape[0]>5000:\n",
    "            start_inx = np.random.randint(0,sig.shape[0]-4999,size=1)[0]\n",
    "            sig = sig[start_inx:(start_inx+5000),:]\n",
    "        tmp[:sig.shape[0],] = sig\n",
    "        np.save('ecgtrainnew5000/'+str(trainy.loc[i][0])+'.npy',tmp)\n",
    "def savex5000(trainy):\n",
    "    for i in range(len(trainy)):\n",
    "        sig, _ = read_ecg_record_and_info(trainy.loc[i][0])\n",
    "        if sig.shape[1]<5000:\n",
    "            continue\n",
    "        sig = sig[:,:5000]\n",
    "        np.save('ecgtest5000/'+str(trainy.loc[i][0])+'.npy',np.transpose(sig,(1,0)))\n"
   ]
  },
  {
   "cell_type": "code",
   "execution_count": 94,
   "id": "3602d20d-bf60-44a7-a521-620b2ffece7b",
   "metadata": {},
   "outputs": [
    {
     "data": {
      "text/plain": [
       "(5000, 12)"
      ]
     },
     "execution_count": 94,
     "metadata": {},
     "output_type": "execute_result"
    }
   ],
   "source": [
    "i=0\n",
    "tmp = np.zeros((5000,12))\n",
    "sig, _ = read_ecg_record_and_info(trainy.loc[i][0])\n",
    "sig = np.transpose(sig,(1,0)) #(5000,12)\n",
    "sig[2:(2+5000),:].shape"
   ]
  },
  {
   "cell_type": "code",
   "execution_count": 97,
   "id": "57a8f416-27fa-4283-8523-9c1f556bad4a",
   "metadata": {},
   "outputs": [],
   "source": [
    "savex(trainy)"
   ]
  },
  {
   "cell_type": "code",
   "execution_count": 17,
   "id": "607df6d0-d04b-45d6-9de5-8d9e49169c3e",
   "metadata": {},
   "outputs": [],
   "source": [
    "trainy = pd.read_csv('train.csv')\n",
    "testy = pd.read_csv('test.csv')\n",
    "#train_x = np.load('train_x.npy')\n",
    "#test_x = genex(testy)\n",
    "#train_x.shape"
   ]
  },
  {
   "cell_type": "code",
   "execution_count": 11,
   "id": "81023b2a-c040-484d-a632-3f1c7a82e3b9",
   "metadata": {},
   "outputs": [
    {
     "data": {
      "text/plain": [
       "(8246, 12, 72000)"
      ]
     },
     "execution_count": 11,
     "metadata": {},
     "output_type": "execute_result"
    }
   ],
   "source": [
    "test_x.shape"
   ]
  },
  {
   "cell_type": "code",
   "execution_count": null,
   "id": "053681f1-798a-46a0-834b-fb1a06f4a917",
   "metadata": {},
   "outputs": [],
   "source": [
    "#np.save('train_x.npy',train_x)\n",
    "np.save('test_x.npy',test_x)"
   ]
  },
  {
   "cell_type": "code",
   "execution_count": null,
   "id": "222add68-8999-4607-88f5-c0d272b6c50a",
   "metadata": {},
   "outputs": [],
   "source": []
  }
 ],
 "metadata": {
  "kernelspec": {
   "display_name": "Python 3",
   "language": "python",
   "name": "python3"
  },
  "language_info": {
   "codemirror_mode": {
    "name": "ipython",
    "version": 3
   },
   "file_extension": ".py",
   "mimetype": "text/x-python",
   "name": "python",
   "nbconvert_exporter": "python",
   "pygments_lexer": "ipython3",
   "version": "3.6.9"
  }
 },
 "nbformat": 4,
 "nbformat_minor": 5
}
